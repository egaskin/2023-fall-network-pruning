{
  "nbformat": 4,
  "nbformat_minor": 0,
  "metadata": {
    "kernelspec": {
      "display_name": "Python 3",
      "name": "python3"
    },
    "language_info": {
      "codemirror_mode": {
        "name": "ipython",
        "version": 3
      },
      "file_extension": ".py",
      "mimetype": "text/x-python",
      "name": "python",
      "nbconvert_exporter": "python",
      "pygments_lexer": "ipython3",
      "version": "3.7.6"
    },
    "colab": {
      "provenance": [],
      "gpuType": "T4",
      "toc_visible": true
    },
    "accelerator": "GPU"
  },
  "cells": [
    {
      "cell_type": "markdown",
      "metadata": {
        "id": "y-eC-sb34T9w"
      },
      "source": [
        "## Accelerate Inference: Neural Network Pruning"
      ]
    },
    {
      "cell_type": "code",
      "metadata": {
        "id": "L47XBZWm4T9x",
        "colab": {
          "base_uri": "https://localhost:8080/"
        },
        "outputId": "62c4257d-6fab-41fa-a5ff-6401c0cdbdd9"
      },
      "source": [
        "import os\n",
        "import numpy as np\n",
        "import cv2\n",
        "import matplotlib.pyplot as plt\n",
        "import pickle\n",
        "\n",
        "import tensorflow as tf\n",
        "from tensorflow import keras\n",
        "from tensorflow.keras import datasets, layers, models, regularizers\n",
        "from tensorflow.keras.layers import *\n",
        "\n",
        "print(tf.version.VERSION)"
      ],
      "execution_count": 1,
      "outputs": [
        {
          "output_type": "stream",
          "name": "stdout",
          "text": [
            "2.14.0\n"
          ]
        }
      ]
    },
    {
      "cell_type": "markdown",
      "source": [
        "# Load images"
      ],
      "metadata": {
        "id": "mfZrFzTYPn8X"
      }
    },
    {
      "cell_type": "code",
      "metadata": {
        "id": "V1FQTVeAuNiU",
        "colab": {
          "base_uri": "https://localhost:8080/"
        },
        "outputId": "baef0201-6a25-40de-aaac-40980ed36d13"
      },
      "source": [
        "# untar\n",
        "!tar -xvzf dataset.tar.gz\n",
        "# load train\n",
        "train_images = pickle.load(open('train_images.pkl', 'rb'))\n",
        "train_labels = pickle.load(open('train_labels.pkl', 'rb'))\n",
        "# load val\n",
        "val_images = pickle.load(open('val_images.pkl', 'rb'))\n",
        "val_labels = pickle.load(open('val_labels.pkl', 'rb'))"
      ],
      "execution_count": 2,
      "outputs": [
        {
          "output_type": "stream",
          "name": "stdout",
          "text": [
            "train_images.pkl\n",
            "train_labels.pkl\n",
            "val_images.pkl\n",
            "val_labels.pkl\n"
          ]
        }
      ]
    },
    {
      "cell_type": "code",
      "metadata": {
        "id": "KE9JuZDG4T94"
      },
      "source": [
        "# Define the neural network architecture (don't change this)\n",
        "\n",
        "model = models.Sequential()\n",
        "model.add(Conv2D(32, (3, 3), padding='same', kernel_regularizer=regularizers.l2(1e-5), input_shape=(25,25,3)))\n",
        "model.add(Activation('relu'))\n",
        "model.add(Conv2D(32, (3, 3), kernel_regularizer=regularizers.l2(1e-5)))\n",
        "model.add(Activation('relu'))\n",
        "model.add(MaxPooling2D(pool_size=(2, 2)))\n",
        "model.add(Dropout(0.25))\n",
        "model.add(Conv2D(64, (3, 3), padding='same', kernel_regularizer=regularizers.l2(1e-5)))\n",
        "model.add(Activation('relu'))\n",
        "model.add(Conv2D(64, (3, 3), kernel_regularizer=regularizers.l2(1e-5)))\n",
        "model.add(Activation('relu'))\n",
        "model.add(MaxPooling2D(pool_size=(2, 2)))\n",
        "model.add(Dropout(0.25))\n",
        "model.add(Flatten())\n",
        "model.add(Dense(512))\n",
        "model.add(Activation('relu'))\n",
        "model.add(Dropout(0.5))\n",
        "model.add(Dense(5))\n",
        "model.add(Activation('softmax'))"
      ],
      "execution_count": 11,
      "outputs": []
    },
    {
      "cell_type": "code",
      "metadata": {
        "id": "JTzcSoYl4T97",
        "colab": {
          "base_uri": "https://localhost:8080/"
        },
        "outputId": "d0b9eb45-1023-4158-f790-c96f6ab660eb"
      },
      "source": [
        "print(model.summary())"
      ],
      "execution_count": 12,
      "outputs": [
        {
          "output_type": "stream",
          "name": "stdout",
          "text": [
            "Model: \"sequential\"\n",
            "_________________________________________________________________\n",
            " Layer (type)                Output Shape              Param #   \n",
            "=================================================================\n",
            " conv2d (Conv2D)             (None, 25, 25, 32)        896       \n",
            "                                                                 \n",
            " activation (Activation)     (None, 25, 25, 32)        0         \n",
            "                                                                 \n",
            " conv2d_1 (Conv2D)           (None, 23, 23, 32)        9248      \n",
            "                                                                 \n",
            " activation_1 (Activation)   (None, 23, 23, 32)        0         \n",
            "                                                                 \n",
            " max_pooling2d (MaxPooling2  (None, 11, 11, 32)        0         \n",
            " D)                                                              \n",
            "                                                                 \n",
            " dropout (Dropout)           (None, 11, 11, 32)        0         \n",
            "                                                                 \n",
            " conv2d_2 (Conv2D)           (None, 11, 11, 64)        18496     \n",
            "                                                                 \n",
            " activation_2 (Activation)   (None, 11, 11, 64)        0         \n",
            "                                                                 \n",
            " conv2d_3 (Conv2D)           (None, 9, 9, 64)          36928     \n",
            "                                                                 \n",
            " activation_3 (Activation)   (None, 9, 9, 64)          0         \n",
            "                                                                 \n",
            " max_pooling2d_1 (MaxPoolin  (None, 4, 4, 64)          0         \n",
            " g2D)                                                            \n",
            "                                                                 \n",
            " dropout_1 (Dropout)         (None, 4, 4, 64)          0         \n",
            "                                                                 \n",
            " flatten (Flatten)           (None, 1024)              0         \n",
            "                                                                 \n",
            " dense (Dense)               (None, 512)               524800    \n",
            "                                                                 \n",
            " activation_4 (Activation)   (None, 512)               0         \n",
            "                                                                 \n",
            " dropout_2 (Dropout)         (None, 512)               0         \n",
            "                                                                 \n",
            " dense_1 (Dense)             (None, 5)                 2565      \n",
            "                                                                 \n",
            " activation_5 (Activation)   (None, 5)                 0         \n",
            "                                                                 \n",
            "=================================================================\n",
            "Total params: 592933 (2.26 MB)\n",
            "Trainable params: 592933 (2.26 MB)\n",
            "Non-trainable params: 0 (0.00 Byte)\n",
            "_________________________________________________________________\n",
            "None\n"
          ]
        }
      ]
    },
    {
      "cell_type": "code",
      "metadata": {
        "id": "G9Nk_MAPqZPt",
        "colab": {
          "base_uri": "https://localhost:8080/"
        },
        "outputId": "cac92515-4de5-41a7-d716-46cde151c4b5"
      },
      "source": [
        "# you can use the default hyper-parameters for training,\n",
        "# val accuracy ~72% after 50 epochs\n",
        "\n",
        "model.compile(optimizer=keras.optimizers.Adam(learning_rate=0.0001, weight_decay=1e-6),\n",
        "              loss=tf.keras.losses.SparseCategoricalCrossentropy(from_logits=False),\n",
        "              metrics=['accuracy'])\n",
        "\n",
        "history = model.fit(train_images, train_labels, batch_size=32, epochs=50,\n",
        "                    validation_data=(val_images, val_labels)) # train for 50 epochs, with batch size 32"
      ],
      "execution_count": 13,
      "outputs": [
        {
          "output_type": "stream",
          "name": "stdout",
          "text": [
            "Epoch 1/50\n",
            "703/703 [==============================] - 11s 9ms/step - loss: 1.5060 - accuracy: 0.3160 - val_loss: 1.3687 - val_accuracy: 0.4111\n",
            "Epoch 2/50\n",
            "703/703 [==============================] - 5s 7ms/step - loss: 1.3416 - accuracy: 0.4242 - val_loss: 1.2689 - val_accuracy: 0.4558\n",
            "Epoch 3/50\n",
            "703/703 [==============================] - 5s 7ms/step - loss: 1.2748 - accuracy: 0.4612 - val_loss: 1.2551 - val_accuracy: 0.4768\n",
            "Epoch 4/50\n",
            "703/703 [==============================] - 5s 7ms/step - loss: 1.2287 - accuracy: 0.4944 - val_loss: 1.1924 - val_accuracy: 0.5006\n",
            "Epoch 5/50\n",
            "703/703 [==============================] - 4s 6ms/step - loss: 1.1929 - accuracy: 0.5103 - val_loss: 1.1478 - val_accuracy: 0.5212\n",
            "Epoch 6/50\n",
            "703/703 [==============================] - 5s 7ms/step - loss: 1.1598 - accuracy: 0.5256 - val_loss: 1.1220 - val_accuracy: 0.5402\n",
            "Epoch 7/50\n",
            "703/703 [==============================] - 5s 7ms/step - loss: 1.1337 - accuracy: 0.5402 - val_loss: 1.0899 - val_accuracy: 0.5505\n",
            "Epoch 8/50\n",
            "703/703 [==============================] - 4s 6ms/step - loss: 1.1101 - accuracy: 0.5520 - val_loss: 1.0519 - val_accuracy: 0.5715\n",
            "Epoch 9/50\n",
            "703/703 [==============================] - 5s 7ms/step - loss: 1.0830 - accuracy: 0.5687 - val_loss: 1.0183 - val_accuracy: 0.5893\n",
            "Epoch 10/50\n",
            "703/703 [==============================] - 5s 7ms/step - loss: 1.0528 - accuracy: 0.5771 - val_loss: 0.9946 - val_accuracy: 0.6028\n",
            "Epoch 11/50\n",
            "703/703 [==============================] - 4s 6ms/step - loss: 1.0346 - accuracy: 0.5900 - val_loss: 1.0076 - val_accuracy: 0.5929\n",
            "Epoch 12/50\n",
            "703/703 [==============================] - 5s 7ms/step - loss: 1.0187 - accuracy: 0.5976 - val_loss: 0.9676 - val_accuracy: 0.6028\n",
            "Epoch 13/50\n",
            "703/703 [==============================] - 5s 7ms/step - loss: 0.9944 - accuracy: 0.6097 - val_loss: 0.9483 - val_accuracy: 0.6158\n",
            "Epoch 14/50\n",
            "703/703 [==============================] - 5s 6ms/step - loss: 0.9718 - accuracy: 0.6170 - val_loss: 0.9306 - val_accuracy: 0.6277\n",
            "Epoch 15/50\n",
            "703/703 [==============================] - 5s 7ms/step - loss: 0.9578 - accuracy: 0.6250 - val_loss: 0.9794 - val_accuracy: 0.6048\n",
            "Epoch 16/50\n",
            "703/703 [==============================] - 5s 7ms/step - loss: 0.9441 - accuracy: 0.6323 - val_loss: 0.9068 - val_accuracy: 0.6349\n",
            "Epoch 17/50\n",
            "703/703 [==============================] - 4s 6ms/step - loss: 0.9238 - accuracy: 0.6403 - val_loss: 0.9383 - val_accuracy: 0.6238\n",
            "Epoch 18/50\n",
            "703/703 [==============================] - 5s 7ms/step - loss: 0.9182 - accuracy: 0.6421 - val_loss: 0.8893 - val_accuracy: 0.6436\n",
            "Epoch 19/50\n",
            "703/703 [==============================] - 5s 7ms/step - loss: 0.9021 - accuracy: 0.6515 - val_loss: 0.8660 - val_accuracy: 0.6515\n",
            "Epoch 20/50\n",
            "703/703 [==============================] - 5s 6ms/step - loss: 0.8898 - accuracy: 0.6555 - val_loss: 0.8935 - val_accuracy: 0.6408\n",
            "Epoch 21/50\n",
            "703/703 [==============================] - 5s 8ms/step - loss: 0.8795 - accuracy: 0.6623 - val_loss: 0.8637 - val_accuracy: 0.6543\n",
            "Epoch 22/50\n",
            "703/703 [==============================] - 5s 7ms/step - loss: 0.8659 - accuracy: 0.6683 - val_loss: 0.8653 - val_accuracy: 0.6539\n",
            "Epoch 23/50\n",
            "703/703 [==============================] - 4s 6ms/step - loss: 0.8458 - accuracy: 0.6743 - val_loss: 0.8360 - val_accuracy: 0.6685\n",
            "Epoch 24/50\n",
            "703/703 [==============================] - 5s 7ms/step - loss: 0.8402 - accuracy: 0.6780 - val_loss: 0.8285 - val_accuracy: 0.6741\n",
            "Epoch 25/50\n",
            "703/703 [==============================] - 5s 6ms/step - loss: 0.8272 - accuracy: 0.6828 - val_loss: 0.8298 - val_accuracy: 0.6650\n",
            "Epoch 26/50\n",
            "703/703 [==============================] - 4s 6ms/step - loss: 0.8200 - accuracy: 0.6879 - val_loss: 0.8345 - val_accuracy: 0.6661\n",
            "Epoch 27/50\n",
            "703/703 [==============================] - 5s 8ms/step - loss: 0.8069 - accuracy: 0.6910 - val_loss: 0.8038 - val_accuracy: 0.6851\n",
            "Epoch 28/50\n",
            "703/703 [==============================] - 5s 7ms/step - loss: 0.7970 - accuracy: 0.6952 - val_loss: 0.8094 - val_accuracy: 0.6784\n",
            "Epoch 29/50\n",
            "703/703 [==============================] - 4s 6ms/step - loss: 0.7934 - accuracy: 0.6958 - val_loss: 0.8069 - val_accuracy: 0.6859\n",
            "Epoch 30/50\n",
            "703/703 [==============================] - 5s 8ms/step - loss: 0.7760 - accuracy: 0.7025 - val_loss: 0.7867 - val_accuracy: 0.6883\n",
            "Epoch 31/50\n",
            "703/703 [==============================] - 4s 6ms/step - loss: 0.7683 - accuracy: 0.7099 - val_loss: 0.8116 - val_accuracy: 0.6879\n",
            "Epoch 32/50\n",
            "703/703 [==============================] - 4s 6ms/step - loss: 0.7659 - accuracy: 0.7102 - val_loss: 0.7972 - val_accuracy: 0.6907\n",
            "Epoch 33/50\n",
            "703/703 [==============================] - 6s 8ms/step - loss: 0.7553 - accuracy: 0.7106 - val_loss: 0.8569 - val_accuracy: 0.6614\n",
            "Epoch 34/50\n",
            "703/703 [==============================] - 4s 6ms/step - loss: 0.7459 - accuracy: 0.7144 - val_loss: 0.7623 - val_accuracy: 0.7014\n",
            "Epoch 35/50\n",
            "703/703 [==============================] - 4s 6ms/step - loss: 0.7356 - accuracy: 0.7228 - val_loss: 0.7644 - val_accuracy: 0.7002\n",
            "Epoch 36/50\n",
            "703/703 [==============================] - 5s 8ms/step - loss: 0.7339 - accuracy: 0.7189 - val_loss: 0.7693 - val_accuracy: 0.7038\n",
            "Epoch 37/50\n",
            "703/703 [==============================] - 4s 6ms/step - loss: 0.7214 - accuracy: 0.7289 - val_loss: 0.7637 - val_accuracy: 0.6998\n",
            "Epoch 38/50\n",
            "703/703 [==============================] - 4s 6ms/step - loss: 0.7137 - accuracy: 0.7284 - val_loss: 0.7543 - val_accuracy: 0.7065\n",
            "Epoch 39/50\n",
            "703/703 [==============================] - 6s 8ms/step - loss: 0.7026 - accuracy: 0.7335 - val_loss: 0.7532 - val_accuracy: 0.7077\n",
            "Epoch 40/50\n",
            "703/703 [==============================] - 5s 7ms/step - loss: 0.6969 - accuracy: 0.7373 - val_loss: 0.7654 - val_accuracy: 0.6974\n",
            "Epoch 41/50\n",
            "703/703 [==============================] - 4s 6ms/step - loss: 0.6890 - accuracy: 0.7367 - val_loss: 0.7477 - val_accuracy: 0.7137\n",
            "Epoch 42/50\n",
            "703/703 [==============================] - 6s 8ms/step - loss: 0.6833 - accuracy: 0.7435 - val_loss: 0.7385 - val_accuracy: 0.7105\n",
            "Epoch 43/50\n",
            "703/703 [==============================] - 4s 6ms/step - loss: 0.6735 - accuracy: 0.7457 - val_loss: 0.7522 - val_accuracy: 0.7046\n",
            "Epoch 44/50\n",
            "703/703 [==============================] - 4s 6ms/step - loss: 0.6695 - accuracy: 0.7447 - val_loss: 0.7449 - val_accuracy: 0.7188\n",
            "Epoch 45/50\n",
            "703/703 [==============================] - 6s 8ms/step - loss: 0.6554 - accuracy: 0.7530 - val_loss: 0.7315 - val_accuracy: 0.7145\n",
            "Epoch 46/50\n",
            "703/703 [==============================] - 4s 6ms/step - loss: 0.6587 - accuracy: 0.7487 - val_loss: 0.7457 - val_accuracy: 0.7176\n",
            "Epoch 47/50\n",
            "703/703 [==============================] - 4s 6ms/step - loss: 0.6432 - accuracy: 0.7561 - val_loss: 0.7437 - val_accuracy: 0.7141\n",
            "Epoch 48/50\n",
            "703/703 [==============================] - 5s 8ms/step - loss: 0.6413 - accuracy: 0.7597 - val_loss: 0.7255 - val_accuracy: 0.7240\n",
            "Epoch 49/50\n",
            "703/703 [==============================] - 4s 6ms/step - loss: 0.6305 - accuracy: 0.7632 - val_loss: 0.7168 - val_accuracy: 0.7224\n",
            "Epoch 50/50\n",
            "703/703 [==============================] - 5s 6ms/step - loss: 0.6222 - accuracy: 0.7657 - val_loss: 0.7137 - val_accuracy: 0.7236\n"
          ]
        }
      ]
    },
    {
      "cell_type": "code",
      "metadata": {
        "id": "vOhpP7M24T9_",
        "colab": {
          "base_uri": "https://localhost:8080/"
        },
        "outputId": "c3c44c21-0159-4710-966c-17f33b2d187a"
      },
      "source": [
        "results = model.evaluate(val_images, val_labels, batch_size=128)\n",
        "model.save('model.keras')"
      ],
      "execution_count": 14,
      "outputs": [
        {
          "output_type": "stream",
          "name": "stdout",
          "text": [
            "20/20 [==============================] - 0s 4ms/step - loss: 0.7137 - accuracy: 0.7236\n"
          ]
        }
      ]
    },
    {
      "cell_type": "markdown",
      "source": [
        "# Network Pruning"
      ],
      "metadata": {
        "id": "QIP8EP-sPh0b"
      }
    },
    {
      "cell_type": "code",
      "source": [
        "import copy\n",
        "import gc\n",
        "from google.colab import files\n",
        "\n",
        "def get_reward(model,\n",
        "               train_images,\n",
        "               train_labels,\n",
        "               selected_layer,\n",
        "               sel_input,\n",
        "               sel_output,\n",
        "               original_results,\n",
        "               layer_weights):\n",
        "\n",
        "    \"\"\"\n",
        "    Calculate reward for an arm\n",
        "\n",
        "    Parameters:\n",
        "    model: CNN model\n",
        "    train_images: list, images for model evaluation\n",
        "    train_labels: list, labels for model evaluation\n",
        "    selected_layer: int, layer to modify\n",
        "    sel_input: int, input channel to index for arm of interest\n",
        "    sel_output: int, output channel to index for arm of interest\n",
        "    original_results: list, results from model with no zero weights\n",
        "    layer_weights: np array, weights matrix\n",
        "\n",
        "    Return\n",
        "    reward: float, reward for arm of interest\n",
        "\n",
        "    \"\"\"\n",
        "\n",
        "    threshold = 0.005\n",
        "    constant = 0.05\n",
        "\n",
        "    temp_w = copy.deepcopy(layer_weights)\n",
        "\n",
        "    if len(temp_w[0].shape) == 4:\n",
        "        temp_w[0][:, :, sel_input, sel_output] = 0\n",
        "    else:\n",
        "        temp_w[0][:, sel_output] = 0\n",
        "\n",
        "    temp_w[1][sel_output] = 0\n",
        "    model.layers[selected_layer].set_weights(temp_w)\n",
        "    results = model.evaluate(train_images, train_labels, batch_size=2525, workers=2, verbose=0)\n",
        "    dloss = original_results[0] - results[0]\n",
        "    reward = max(0, threshold + dloss) / constant\n",
        "    reward = np.clip(reward, a_min=0, a_max=0.99)\n",
        "\n",
        "    model.layers[selected_layer].set_weights(layer_weights)\n",
        "    del temp_w\n",
        "\n",
        "    gc.collect()\n",
        "\n",
        "    return reward\n",
        "\n",
        "def get_sampled_data(train_images,\n",
        "               train_labels,\n",
        "               sel_number:int=2500):\n",
        "\n",
        "    \"\"\"\n",
        "    Calculate reward for an arm\n",
        "\n",
        "    Parameters:\n",
        "    train_images: list, images for model evaluation\n",
        "    train_labels: list, labels for model evaluation\n",
        "    sel_number: int, number of samples to choose\n",
        "\n",
        "    Return\n",
        "    sampled_images: list, sampled images for model evaluation\n",
        "    sampled_labels: list, sampled labels for model evaluation\n",
        "\n",
        "    \"\"\"\n",
        "\n",
        "    rand_idx = np.random.choice(range(len(train_images)), size=sel_number)\n",
        "\n",
        "    sampled_images = train_images[rand_idx]\n",
        "    sampled_labels = train_labels[rand_idx]\n",
        "\n",
        "    return sampled_images, sampled_labels\n",
        "\n",
        "\n",
        "\n",
        "def MAB(model,\n",
        "        num_rounds:int,):\n",
        "\n",
        "    \"\"\"\n",
        "    Run multi-armed bandit using UCB1 algorithm\n",
        "\n",
        "    Parameters:\n",
        "    model: CNN model\n",
        "    num_rounds: int, number of rounds on top of initialization run for every arm\n",
        "\n",
        "    \"\"\"\n",
        "\n",
        "    for l in range(18):\n",
        "\n",
        "      if len(model.layers[l].get_weights()) == 0:\n",
        "        continue\n",
        "\n",
        "      print(f'Working on layer {l}')\n",
        "\n",
        "      layer_weights = model.layers[l].get_weights()\n",
        "      num_weights = np.prod(layer_weights[0].shape)\n",
        "      layer_shape = layer_weights[0].shape\n",
        "\n",
        "      print('Running MAB')\n",
        "      if l !=13:\n",
        "\n",
        "        weights_rewards = np.zeros((layer_shape[-2], layer_shape[-1]))\n",
        "        count = 0\n",
        "\n",
        "        #initialize experimental means\n",
        "        for i in range(layer_shape[-2]):\n",
        "\n",
        "          for out in range(layer_shape[-1]):\n",
        "\n",
        "              rand_images, rand_labels = get_sampled_data(train_images, train_labels)\n",
        "\n",
        "              original_results = model.evaluate(rand_images, rand_labels, batch_size=2500, verbose=0)\n",
        "\n",
        "              weights_rewards[i, out] = get_reward(model,\n",
        "                                                  rand_images,\n",
        "                                                  rand_labels, l, i, out,\n",
        "                                                  original_results,\n",
        "                                                  layer_weights)\n",
        "              count += 1\n",
        "\n",
        "              if count%100 == 0:\n",
        "                print(f'Arms tested: {count}')\n",
        "\n",
        "      #special case for dense layer since there are too many parameters\n",
        "      else:\n",
        "        weights_rewards = np.zeros((1, layer_shape[-1]))\n",
        "        count = 0\n",
        "\n",
        "        #initialize experimental means\n",
        "        for out in range(layer_shape[-1]):\n",
        "\n",
        "              rand_images, rand_labels = get_sampled_data(train_images, train_labels)\n",
        "\n",
        "              original_results = model.evaluate(rand_images, rand_labels, batch_size=2500)\n",
        "\n",
        "              #run UCB1\n",
        "              weights_rewards[0, out] = get_reward(model,\n",
        "                                                  val_images,\n",
        "                                                  val_labels, l, 0, out,\n",
        "                                                  original_results,\n",
        "                                                  layer_weights)\n",
        "              count += 1\n",
        "\n",
        "              if count%100 == 0:\n",
        "                print(f'Arms tested: {count}')\n",
        "\n",
        "\n",
        "      pulls_arr = np.ones_like(weights_rewards)\n",
        "      total_runs = layer_shape[-2]*layer_shape[-1]\n",
        "\n",
        "      for r in range(num_rounds):\n",
        "\n",
        "        #get sampled data\n",
        "        rand_images, rand_labels = get_sampled_data(train_images, train_labels)\n",
        "        original_results = model.evaluate(rand_images, rand_labels, batch_size=2500)\n",
        "\n",
        "        #choose arm to pull\n",
        "        ait_arr = np.sqrt(2 * np.log(r+total_runs)/pulls_arr)\n",
        "        arm_pull = np.unravel_index(np.argmax(weights_rewards + ait_arr), weights_rewards.shape)\n",
        "        reward = get_reward(model, rand_images, rand_labels, l, arm_pull[0], arm_pull[1], original_results, layer_weights)\n",
        "\n",
        "        #update means\n",
        "        pulls_arr[arm_pull] += 1\n",
        "        weights_rewards[arm_pull] = (pulls_arr[arm_pull]-1)/pulls_arr[arm_pull]* weights_rewards[arm_pull] + 1/pulls_arr[arm_pull]*reward\n",
        "\n",
        "        if r%100 == 0:\n",
        "          print(f'Done with {r}')\n",
        "\n",
        "      np.save(f'data_{l}_{cutoff}.npy', weights_rewards)\n",
        "      files.download(f'data_{l}_{cutoff}.npy')\n"
      ],
      "metadata": {
        "id": "zbCGijenI1Hx"
      },
      "execution_count": 136,
      "outputs": []
    },
    {
      "cell_type": "code",
      "metadata": {
        "id": "vjw94aij4T-C",
        "colab": {
          "base_uri": "https://localhost:8080/",
          "height": 757
        },
        "outputId": "21780225-6b75-4ccf-cae7-2a511ca808bd"
      },
      "source": [
        "# perform pruning here\n",
        "\n",
        "# get the weights\n",
        "model = keras.models.load_model('model_fixed.keras')\n",
        "MAB(model, 1000)\n"
      ],
      "execution_count": 137,
      "outputs": [
        {
          "output_type": "stream",
          "name": "stdout",
          "text": [
            "Working on layer 0\n",
            "Running MAB\n",
            "1/1 [==============================] - 0s 299ms/step - loss: 0.4585 - accuracy: 0.8472\n"
          ]
        },
        {
          "output_type": "stream",
          "name": "stderr",
          "text": [
            "WARNING:tensorflow:5 out of the last 204 calls to <function Model.make_test_function.<locals>.test_function at 0x79685eb9ecb0> triggered tf.function retracing. Tracing is expensive and the excessive number of tracings could be due to (1) creating @tf.function repeatedly in a loop, (2) passing tensors with different shapes, (3) passing Python objects instead of tensors. For (1), please define your @tf.function outside of the loop. For (2), @tf.function has reduce_retracing=True option that can avoid unnecessary retracing. For (3), please refer to https://www.tensorflow.org/guide/function#controlling_retracing and https://www.tensorflow.org/api_docs/python/tf/function for  more details.\n"
          ]
        },
        {
          "output_type": "stream",
          "name": "stdout",
          "text": [
            "1/1 [==============================] - 0s 77ms/step - loss: 0.4591 - accuracy: 0.8460\n",
            "1/1 [==============================] - 0s 70ms/step - loss: 0.4696 - accuracy: 0.8328\n",
            "1/1 [==============================] - 0s 67ms/step - loss: 0.4705 - accuracy: 0.8372\n",
            "1/1 [==============================] - 0s 73ms/step - loss: 0.4779 - accuracy: 0.8420\n",
            "1/1 [==============================] - 0s 71ms/step - loss: 0.4898 - accuracy: 0.8292\n",
            "1/1 [==============================] - 0s 65ms/step - loss: 0.4766 - accuracy: 0.8368\n",
            "1/1 [==============================] - 0s 59ms/step - loss: 0.4766 - accuracy: 0.8332\n",
            "1/1 [==============================] - 0s 61ms/step - loss: 0.4596 - accuracy: 0.8500\n",
            "1/1 [==============================] - 0s 60ms/step - loss: 0.4632 - accuracy: 0.8448\n",
            "1/1 [==============================] - 0s 60ms/step - loss: 0.4802 - accuracy: 0.8412\n",
            "1/1 [==============================] - 0s 58ms/step - loss: 0.4664 - accuracy: 0.8516\n",
            "1/1 [==============================] - 0s 57ms/step - loss: 0.4878 - accuracy: 0.8344\n",
            "1/1 [==============================] - 0s 59ms/step - loss: 0.4640 - accuracy: 0.8448\n",
            "1/1 [==============================] - 0s 66ms/step - loss: 0.4835 - accuracy: 0.8332\n",
            "1/1 [==============================] - 0s 59ms/step - loss: 0.4816 - accuracy: 0.8348\n",
            "1/1 [==============================] - 0s 59ms/step - loss: 0.4920 - accuracy: 0.8368\n",
            "1/1 [==============================] - 0s 59ms/step - loss: 0.4682 - accuracy: 0.8444\n",
            "1/1 [==============================] - 0s 60ms/step - loss: 0.4737 - accuracy: 0.8380\n"
          ]
        },
        {
          "output_type": "error",
          "ename": "KeyboardInterrupt",
          "evalue": "ignored",
          "traceback": [
            "\u001b[0;31m---------------------------------------------------------------------------\u001b[0m",
            "\u001b[0;31mKeyboardInterrupt\u001b[0m                         Traceback (most recent call last)",
            "\u001b[0;32m<ipython-input-137-d5b9acfaa84a>\u001b[0m in \u001b[0;36m<cell line: 5>\u001b[0;34m()\u001b[0m\n\u001b[1;32m      3\u001b[0m \u001b[0;31m# get the weights\u001b[0m\u001b[0;34m\u001b[0m\u001b[0;34m\u001b[0m\u001b[0m\n\u001b[1;32m      4\u001b[0m \u001b[0mmodel\u001b[0m \u001b[0;34m=\u001b[0m \u001b[0mkeras\u001b[0m\u001b[0;34m.\u001b[0m\u001b[0mmodels\u001b[0m\u001b[0;34m.\u001b[0m\u001b[0mload_model\u001b[0m\u001b[0;34m(\u001b[0m\u001b[0;34m'model_fixed.keras'\u001b[0m\u001b[0;34m)\u001b[0m\u001b[0;34m\u001b[0m\u001b[0;34m\u001b[0m\u001b[0m\n\u001b[0;32m----> 5\u001b[0;31m \u001b[0mMAB\u001b[0m\u001b[0;34m(\u001b[0m\u001b[0mmodel\u001b[0m\u001b[0;34m,\u001b[0m \u001b[0;36m1000\u001b[0m\u001b[0;34m)\u001b[0m\u001b[0;34m\u001b[0m\u001b[0;34m\u001b[0m\u001b[0m\n\u001b[0m",
            "\u001b[0;32m<ipython-input-136-8217b78af2a8>\u001b[0m in \u001b[0;36mMAB\u001b[0;34m(model, num_rounds)\u001b[0m\n\u001b[1;32m    118\u001b[0m               \u001b[0moriginal_results\u001b[0m \u001b[0;34m=\u001b[0m \u001b[0mmodel\u001b[0m\u001b[0;34m.\u001b[0m\u001b[0mevaluate\u001b[0m\u001b[0;34m(\u001b[0m\u001b[0mrand_images\u001b[0m\u001b[0;34m,\u001b[0m \u001b[0mrand_labels\u001b[0m\u001b[0;34m,\u001b[0m \u001b[0mbatch_size\u001b[0m\u001b[0;34m=\u001b[0m\u001b[0;36m2500\u001b[0m\u001b[0;34m)\u001b[0m\u001b[0;34m\u001b[0m\u001b[0;34m\u001b[0m\u001b[0m\n\u001b[1;32m    119\u001b[0m \u001b[0;34m\u001b[0m\u001b[0m\n\u001b[0;32m--> 120\u001b[0;31m               weights_rewards[i, out] = get_reward(model,\n\u001b[0m\u001b[1;32m    121\u001b[0m                                                   \u001b[0mrand_images\u001b[0m\u001b[0;34m,\u001b[0m\u001b[0;34m\u001b[0m\u001b[0;34m\u001b[0m\u001b[0m\n\u001b[1;32m    122\u001b[0m                                                   \u001b[0mrand_labels\u001b[0m\u001b[0;34m,\u001b[0m \u001b[0ml\u001b[0m\u001b[0;34m,\u001b[0m \u001b[0mi\u001b[0m\u001b[0;34m,\u001b[0m \u001b[0mout\u001b[0m\u001b[0;34m,\u001b[0m\u001b[0;34m\u001b[0m\u001b[0;34m\u001b[0m\u001b[0m\n",
            "\u001b[0;32m<ipython-input-136-8217b78af2a8>\u001b[0m in \u001b[0;36mget_reward\u001b[0;34m(model, train_images, train_labels, selected_layer, sel_input, sel_output, original_results, layer_weights)\u001b[0m\n\u001b[1;32m     41\u001b[0m     \u001b[0mtemp_w\u001b[0m\u001b[0;34m[\u001b[0m\u001b[0;36m1\u001b[0m\u001b[0;34m]\u001b[0m\u001b[0;34m[\u001b[0m\u001b[0msel_output\u001b[0m\u001b[0;34m]\u001b[0m \u001b[0;34m=\u001b[0m \u001b[0;36m0\u001b[0m\u001b[0;34m\u001b[0m\u001b[0;34m\u001b[0m\u001b[0m\n\u001b[1;32m     42\u001b[0m     \u001b[0mmodel\u001b[0m\u001b[0;34m.\u001b[0m\u001b[0mlayers\u001b[0m\u001b[0;34m[\u001b[0m\u001b[0mselected_layer\u001b[0m\u001b[0;34m]\u001b[0m\u001b[0;34m.\u001b[0m\u001b[0mset_weights\u001b[0m\u001b[0;34m(\u001b[0m\u001b[0mtemp_w\u001b[0m\u001b[0;34m)\u001b[0m\u001b[0;34m\u001b[0m\u001b[0;34m\u001b[0m\u001b[0m\n\u001b[0;32m---> 43\u001b[0;31m     \u001b[0mresults\u001b[0m \u001b[0;34m=\u001b[0m \u001b[0mmodel\u001b[0m\u001b[0;34m.\u001b[0m\u001b[0mevaluate\u001b[0m\u001b[0;34m(\u001b[0m\u001b[0mtrain_images\u001b[0m\u001b[0;34m,\u001b[0m \u001b[0mtrain_labels\u001b[0m\u001b[0;34m,\u001b[0m \u001b[0mbatch_size\u001b[0m\u001b[0;34m=\u001b[0m\u001b[0;36m2525\u001b[0m\u001b[0;34m,\u001b[0m \u001b[0mworkers\u001b[0m\u001b[0;34m=\u001b[0m\u001b[0;36m2\u001b[0m\u001b[0;34m,\u001b[0m \u001b[0mverbose\u001b[0m\u001b[0;34m=\u001b[0m\u001b[0;36m0\u001b[0m\u001b[0;34m)\u001b[0m\u001b[0;34m\u001b[0m\u001b[0;34m\u001b[0m\u001b[0m\n\u001b[0m\u001b[1;32m     44\u001b[0m     \u001b[0mdloss\u001b[0m \u001b[0;34m=\u001b[0m \u001b[0moriginal_results\u001b[0m\u001b[0;34m[\u001b[0m\u001b[0;36m0\u001b[0m\u001b[0;34m]\u001b[0m \u001b[0;34m-\u001b[0m \u001b[0mresults\u001b[0m\u001b[0;34m[\u001b[0m\u001b[0;36m0\u001b[0m\u001b[0;34m]\u001b[0m\u001b[0;34m\u001b[0m\u001b[0;34m\u001b[0m\u001b[0m\n\u001b[1;32m     45\u001b[0m     \u001b[0mreward\u001b[0m \u001b[0;34m=\u001b[0m \u001b[0mmax\u001b[0m\u001b[0;34m(\u001b[0m\u001b[0;36m0\u001b[0m\u001b[0;34m,\u001b[0m \u001b[0mthreshold\u001b[0m \u001b[0;34m+\u001b[0m \u001b[0mdloss\u001b[0m\u001b[0;34m)\u001b[0m \u001b[0;34m/\u001b[0m \u001b[0mconstant\u001b[0m\u001b[0;34m\u001b[0m\u001b[0;34m\u001b[0m\u001b[0m\n",
            "\u001b[0;32m/usr/local/lib/python3.10/dist-packages/keras/src/utils/traceback_utils.py\u001b[0m in \u001b[0;36merror_handler\u001b[0;34m(*args, **kwargs)\u001b[0m\n\u001b[1;32m     63\u001b[0m         \u001b[0mfiltered_tb\u001b[0m \u001b[0;34m=\u001b[0m \u001b[0;32mNone\u001b[0m\u001b[0;34m\u001b[0m\u001b[0;34m\u001b[0m\u001b[0m\n\u001b[1;32m     64\u001b[0m         \u001b[0;32mtry\u001b[0m\u001b[0;34m:\u001b[0m\u001b[0;34m\u001b[0m\u001b[0;34m\u001b[0m\u001b[0m\n\u001b[0;32m---> 65\u001b[0;31m             \u001b[0;32mreturn\u001b[0m \u001b[0mfn\u001b[0m\u001b[0;34m(\u001b[0m\u001b[0;34m*\u001b[0m\u001b[0margs\u001b[0m\u001b[0;34m,\u001b[0m \u001b[0;34m**\u001b[0m\u001b[0mkwargs\u001b[0m\u001b[0;34m)\u001b[0m\u001b[0;34m\u001b[0m\u001b[0;34m\u001b[0m\u001b[0m\n\u001b[0m\u001b[1;32m     66\u001b[0m         \u001b[0;32mexcept\u001b[0m \u001b[0mException\u001b[0m \u001b[0;32mas\u001b[0m \u001b[0me\u001b[0m\u001b[0;34m:\u001b[0m\u001b[0;34m\u001b[0m\u001b[0;34m\u001b[0m\u001b[0m\n\u001b[1;32m     67\u001b[0m             \u001b[0mfiltered_tb\u001b[0m \u001b[0;34m=\u001b[0m \u001b[0m_process_traceback_frames\u001b[0m\u001b[0;34m(\u001b[0m\u001b[0me\u001b[0m\u001b[0;34m.\u001b[0m\u001b[0m__traceback__\u001b[0m\u001b[0;34m)\u001b[0m\u001b[0;34m\u001b[0m\u001b[0;34m\u001b[0m\u001b[0m\n",
            "\u001b[0;32m/usr/local/lib/python3.10/dist-packages/keras/src/engine/training.py\u001b[0m in \u001b[0;36mevaluate\u001b[0;34m(self, x, y, batch_size, verbose, sample_weight, steps, callbacks, max_queue_size, workers, use_multiprocessing, return_dict, **kwargs)\u001b[0m\n\u001b[1;32m   2223\u001b[0m                 \u001b[0;31m# Creates a `tf.data.Dataset` and handles batch and epoch\u001b[0m\u001b[0;34m\u001b[0m\u001b[0;34m\u001b[0m\u001b[0m\n\u001b[1;32m   2224\u001b[0m                 \u001b[0;31m# iteration.\u001b[0m\u001b[0;34m\u001b[0m\u001b[0;34m\u001b[0m\u001b[0m\n\u001b[0;32m-> 2225\u001b[0;31m                 data_handler = data_adapter.get_data_handler(\n\u001b[0m\u001b[1;32m   2226\u001b[0m                     \u001b[0mx\u001b[0m\u001b[0;34m=\u001b[0m\u001b[0mx\u001b[0m\u001b[0;34m,\u001b[0m\u001b[0;34m\u001b[0m\u001b[0;34m\u001b[0m\u001b[0m\n\u001b[1;32m   2227\u001b[0m                     \u001b[0my\u001b[0m\u001b[0;34m=\u001b[0m\u001b[0my\u001b[0m\u001b[0;34m,\u001b[0m\u001b[0;34m\u001b[0m\u001b[0;34m\u001b[0m\u001b[0m\n",
            "\u001b[0;32m/usr/local/lib/python3.10/dist-packages/keras/src/engine/data_adapter.py\u001b[0m in \u001b[0;36mget_data_handler\u001b[0;34m(*args, **kwargs)\u001b[0m\n\u001b[1;32m   1686\u001b[0m             \u001b[0;32mreturn\u001b[0m \u001b[0m_ClusterCoordinatorExactEvalDataHandler\u001b[0m\u001b[0;34m(\u001b[0m\u001b[0;34m*\u001b[0m\u001b[0margs\u001b[0m\u001b[0;34m,\u001b[0m \u001b[0;34m**\u001b[0m\u001b[0mkwargs\u001b[0m\u001b[0;34m)\u001b[0m\u001b[0;34m\u001b[0m\u001b[0;34m\u001b[0m\u001b[0m\n\u001b[1;32m   1687\u001b[0m         \u001b[0;32mreturn\u001b[0m \u001b[0m_ClusterCoordinatorDataHandler\u001b[0m\u001b[0;34m(\u001b[0m\u001b[0;34m*\u001b[0m\u001b[0margs\u001b[0m\u001b[0;34m,\u001b[0m \u001b[0;34m**\u001b[0m\u001b[0mkwargs\u001b[0m\u001b[0;34m)\u001b[0m\u001b[0;34m\u001b[0m\u001b[0;34m\u001b[0m\u001b[0m\n\u001b[0;32m-> 1688\u001b[0;31m     \u001b[0;32mreturn\u001b[0m \u001b[0mDataHandler\u001b[0m\u001b[0;34m(\u001b[0m\u001b[0;34m*\u001b[0m\u001b[0margs\u001b[0m\u001b[0;34m,\u001b[0m \u001b[0;34m**\u001b[0m\u001b[0mkwargs\u001b[0m\u001b[0;34m)\u001b[0m\u001b[0;34m\u001b[0m\u001b[0;34m\u001b[0m\u001b[0m\n\u001b[0m\u001b[1;32m   1689\u001b[0m \u001b[0;34m\u001b[0m\u001b[0m\n\u001b[1;32m   1690\u001b[0m \u001b[0;34m\u001b[0m\u001b[0m\n",
            "\u001b[0;32m/usr/local/lib/python3.10/dist-packages/keras/src/engine/data_adapter.py\u001b[0m in \u001b[0;36m__init__\u001b[0;34m(self, x, y, sample_weight, batch_size, steps_per_epoch, initial_epoch, epochs, shuffle, class_weight, max_queue_size, workers, use_multiprocessing, model, steps_per_execution, distribute, pss_evaluation_shards)\u001b[0m\n\u001b[1;32m   1290\u001b[0m \u001b[0;34m\u001b[0m\u001b[0m\n\u001b[1;32m   1291\u001b[0m         \u001b[0madapter_cls\u001b[0m \u001b[0;34m=\u001b[0m \u001b[0mselect_data_adapter\u001b[0m\u001b[0;34m(\u001b[0m\u001b[0mx\u001b[0m\u001b[0;34m,\u001b[0m \u001b[0my\u001b[0m\u001b[0;34m)\u001b[0m\u001b[0;34m\u001b[0m\u001b[0;34m\u001b[0m\u001b[0m\n\u001b[0;32m-> 1292\u001b[0;31m         self._adapter = adapter_cls(\n\u001b[0m\u001b[1;32m   1293\u001b[0m             \u001b[0mx\u001b[0m\u001b[0;34m,\u001b[0m\u001b[0;34m\u001b[0m\u001b[0;34m\u001b[0m\u001b[0m\n\u001b[1;32m   1294\u001b[0m             \u001b[0my\u001b[0m\u001b[0;34m,\u001b[0m\u001b[0;34m\u001b[0m\u001b[0;34m\u001b[0m\u001b[0m\n",
            "\u001b[0;32m/usr/local/lib/python3.10/dist-packages/keras/src/engine/data_adapter.py\u001b[0m in \u001b[0;36m__init__\u001b[0;34m(self, x, y, sample_weights, sample_weight_modes, batch_size, epochs, steps, shuffle, **kwargs)\u001b[0m\n\u001b[1;32m    353\u001b[0m         \u001b[0mindices_dataset\u001b[0m \u001b[0;34m=\u001b[0m \u001b[0mindices_dataset\u001b[0m\u001b[0;34m.\u001b[0m\u001b[0mflat_map\u001b[0m\u001b[0;34m(\u001b[0m\u001b[0mslice_batch_indices\u001b[0m\u001b[0;34m)\u001b[0m\u001b[0;34m\u001b[0m\u001b[0;34m\u001b[0m\u001b[0m\n\u001b[1;32m    354\u001b[0m \u001b[0;34m\u001b[0m\u001b[0m\n\u001b[0;32m--> 355\u001b[0;31m         \u001b[0mdataset\u001b[0m \u001b[0;34m=\u001b[0m \u001b[0mself\u001b[0m\u001b[0;34m.\u001b[0m\u001b[0mslice_inputs\u001b[0m\u001b[0;34m(\u001b[0m\u001b[0mindices_dataset\u001b[0m\u001b[0;34m,\u001b[0m \u001b[0minputs\u001b[0m\u001b[0;34m)\u001b[0m\u001b[0;34m\u001b[0m\u001b[0;34m\u001b[0m\u001b[0m\n\u001b[0m\u001b[1;32m    356\u001b[0m \u001b[0;34m\u001b[0m\u001b[0m\n\u001b[1;32m    357\u001b[0m         \u001b[0;32mif\u001b[0m \u001b[0mshuffle\u001b[0m \u001b[0;34m==\u001b[0m \u001b[0;34m\"batch\"\u001b[0m\u001b[0;34m:\u001b[0m\u001b[0;34m\u001b[0m\u001b[0;34m\u001b[0m\u001b[0m\n",
            "\u001b[0;32m/usr/local/lib/python3.10/dist-packages/keras/src/engine/data_adapter.py\u001b[0m in \u001b[0;36mslice_inputs\u001b[0;34m(self, indices_dataset, inputs)\u001b[0m\n\u001b[1;32m    385\u001b[0m           \u001b[0mA\u001b[0m \u001b[0mDataset\u001b[0m \u001b[0mof\u001b[0m \u001b[0minput\u001b[0m \u001b[0mbatches\u001b[0m \u001b[0mmatching\u001b[0m \u001b[0mthe\u001b[0m \u001b[0mbatch\u001b[0m \u001b[0mindices\u001b[0m\u001b[0;34m.\u001b[0m\u001b[0;34m\u001b[0m\u001b[0;34m\u001b[0m\u001b[0m\n\u001b[1;32m    386\u001b[0m         \"\"\"\n\u001b[0;32m--> 387\u001b[0;31m         dataset = tf.data.Dataset.zip(\n\u001b[0m\u001b[1;32m    388\u001b[0m             \u001b[0;34m(\u001b[0m\u001b[0mindices_dataset\u001b[0m\u001b[0;34m,\u001b[0m \u001b[0mtf\u001b[0m\u001b[0;34m.\u001b[0m\u001b[0mdata\u001b[0m\u001b[0;34m.\u001b[0m\u001b[0mDataset\u001b[0m\u001b[0;34m.\u001b[0m\u001b[0mfrom_tensors\u001b[0m\u001b[0;34m(\u001b[0m\u001b[0minputs\u001b[0m\u001b[0;34m)\u001b[0m\u001b[0;34m.\u001b[0m\u001b[0mrepeat\u001b[0m\u001b[0;34m(\u001b[0m\u001b[0;34m)\u001b[0m\u001b[0;34m)\u001b[0m\u001b[0;34m\u001b[0m\u001b[0;34m\u001b[0m\u001b[0m\n\u001b[1;32m    389\u001b[0m         )\n",
            "\u001b[0;32m/usr/local/lib/python3.10/dist-packages/tensorflow/python/data/ops/dataset_ops.py\u001b[0m in \u001b[0;36mzip\u001b[0;34m(datasets, name, *args)\u001b[0m\n\u001b[1;32m   1070\u001b[0m     \u001b[0;32melif\u001b[0m \u001b[0mlen\u001b[0m\u001b[0;34m(\u001b[0m\u001b[0margs\u001b[0m\u001b[0;34m)\u001b[0m \u001b[0;34m>\u001b[0m \u001b[0;36m1\u001b[0m\u001b[0;34m:\u001b[0m\u001b[0;34m\u001b[0m\u001b[0;34m\u001b[0m\u001b[0m\n\u001b[1;32m   1071\u001b[0m       \u001b[0mdatasets\u001b[0m \u001b[0;34m=\u001b[0m \u001b[0margs\u001b[0m\u001b[0;34m\u001b[0m\u001b[0;34m\u001b[0m\u001b[0m\n\u001b[0;32m-> 1072\u001b[0;31m     \u001b[0;32mreturn\u001b[0m \u001b[0mzip_op\u001b[0m\u001b[0;34m.\u001b[0m\u001b[0m_zip\u001b[0m\u001b[0;34m(\u001b[0m\u001b[0mdatasets\u001b[0m\u001b[0;34m,\u001b[0m \u001b[0mname\u001b[0m\u001b[0;34m)\u001b[0m\u001b[0;34m\u001b[0m\u001b[0;34m\u001b[0m\u001b[0m\n\u001b[0m\u001b[1;32m   1073\u001b[0m     \u001b[0;31m# pylint: enable=g-import-not-at-top,protected-access\u001b[0m\u001b[0;34m\u001b[0m\u001b[0;34m\u001b[0m\u001b[0m\n\u001b[1;32m   1074\u001b[0m \u001b[0;34m\u001b[0m\u001b[0m\n",
            "\u001b[0;32m/usr/local/lib/python3.10/dist-packages/tensorflow/python/data/ops/zip_op.py\u001b[0m in \u001b[0;36m_zip\u001b[0;34m(datasets, name)\u001b[0m\n\u001b[1;32m     22\u001b[0m \u001b[0;34m\u001b[0m\u001b[0m\n\u001b[1;32m     23\u001b[0m \u001b[0;32mdef\u001b[0m \u001b[0m_zip\u001b[0m\u001b[0;34m(\u001b[0m\u001b[0mdatasets\u001b[0m\u001b[0;34m,\u001b[0m \u001b[0mname\u001b[0m\u001b[0;34m)\u001b[0m\u001b[0;34m:\u001b[0m  \u001b[0;31m# pylint: disable=redefined-builtin\u001b[0m\u001b[0;34m\u001b[0m\u001b[0;34m\u001b[0m\u001b[0m\n\u001b[0;32m---> 24\u001b[0;31m   \u001b[0;32mreturn\u001b[0m \u001b[0m_ZipDataset\u001b[0m\u001b[0;34m(\u001b[0m\u001b[0mdatasets\u001b[0m\u001b[0;34m,\u001b[0m \u001b[0mname\u001b[0m\u001b[0;34m)\u001b[0m\u001b[0;34m\u001b[0m\u001b[0;34m\u001b[0m\u001b[0m\n\u001b[0m\u001b[1;32m     25\u001b[0m \u001b[0;34m\u001b[0m\u001b[0m\n\u001b[1;32m     26\u001b[0m \u001b[0;34m\u001b[0m\u001b[0m\n",
            "\u001b[0;32m/usr/local/lib/python3.10/dist-packages/tensorflow/python/data/ops/zip_op.py\u001b[0m in \u001b[0;36m__init__\u001b[0;34m(self, datasets, name)\u001b[0m\n\u001b[1;32m     53\u001b[0m         \u001b[0;34m**\u001b[0m\u001b[0mself\u001b[0m\u001b[0;34m.\u001b[0m\u001b[0m_common_args\u001b[0m\u001b[0;34m,\u001b[0m\u001b[0;34m\u001b[0m\u001b[0;34m\u001b[0m\u001b[0m\n\u001b[1;32m     54\u001b[0m     )\n\u001b[0;32m---> 55\u001b[0;31m     \u001b[0msuper\u001b[0m\u001b[0;34m(\u001b[0m\u001b[0;34m)\u001b[0m\u001b[0;34m.\u001b[0m\u001b[0m__init__\u001b[0m\u001b[0;34m(\u001b[0m\u001b[0mvariant_tensor\u001b[0m\u001b[0;34m)\u001b[0m\u001b[0;34m\u001b[0m\u001b[0;34m\u001b[0m\u001b[0m\n\u001b[0m\u001b[1;32m     56\u001b[0m \u001b[0;34m\u001b[0m\u001b[0m\n\u001b[1;32m     57\u001b[0m   \u001b[0;32mdef\u001b[0m \u001b[0m_inputs\u001b[0m\u001b[0;34m(\u001b[0m\u001b[0mself\u001b[0m\u001b[0;34m)\u001b[0m\u001b[0;34m:\u001b[0m\u001b[0;34m\u001b[0m\u001b[0;34m\u001b[0m\u001b[0m\n",
            "\u001b[0;32m/usr/local/lib/python3.10/dist-packages/tensorflow/python/data/ops/dataset_ops.py\u001b[0m in \u001b[0;36m__init__\u001b[0;34m(self, variant_tensor)\u001b[0m\n\u001b[1;32m    255\u001b[0m             f\"`tf.data.Dataset` but encountered {type(input_dataset)}.\")\n\u001b[1;32m    256\u001b[0m       \u001b[0;32mif\u001b[0m \u001b[0minput_options\u001b[0m \u001b[0;32mis\u001b[0m \u001b[0;32mnot\u001b[0m \u001b[0;32mNone\u001b[0m\u001b[0;34m:\u001b[0m\u001b[0;34m\u001b[0m\u001b[0;34m\u001b[0m\u001b[0m\n\u001b[0;32m--> 257\u001b[0;31m         \u001b[0mself\u001b[0m\u001b[0;34m.\u001b[0m\u001b[0m_options_attr\u001b[0m \u001b[0;34m=\u001b[0m \u001b[0mself\u001b[0m\u001b[0;34m.\u001b[0m\u001b[0m_options_attr\u001b[0m\u001b[0;34m.\u001b[0m\u001b[0mmerge\u001b[0m\u001b[0;34m(\u001b[0m\u001b[0minput_options\u001b[0m\u001b[0;34m)\u001b[0m\u001b[0;34m\u001b[0m\u001b[0;34m\u001b[0m\u001b[0m\n\u001b[0m\u001b[1;32m    258\u001b[0m     \u001b[0mself\u001b[0m\u001b[0;34m.\u001b[0m\u001b[0m_options_attr\u001b[0m\u001b[0;34m.\u001b[0m\u001b[0m_set_mutable\u001b[0m\u001b[0;34m(\u001b[0m\u001b[0;32mFalse\u001b[0m\u001b[0;34m)\u001b[0m  \u001b[0;31m# pylint: disable=protected-access\u001b[0m\u001b[0;34m\u001b[0m\u001b[0;34m\u001b[0m\u001b[0m\n\u001b[1;32m    259\u001b[0m \u001b[0;34m\u001b[0m\u001b[0m\n",
            "\u001b[0;32m/usr/local/lib/python3.10/dist-packages/tensorflow/python/data/ops/options.py\u001b[0m in \u001b[0;36m__getattribute__\u001b[0;34m(self, name)\u001b[0m\n\u001b[1;32m    625\u001b[0m       \u001b[0;31m#                 \"Use options.deterministic instead.\")\u001b[0m\u001b[0;34m\u001b[0m\u001b[0;34m\u001b[0m\u001b[0m\n\u001b[1;32m    626\u001b[0m       \u001b[0;32mreturn\u001b[0m \u001b[0mgetattr\u001b[0m\u001b[0;34m(\u001b[0m\u001b[0mself\u001b[0m\u001b[0;34m,\u001b[0m \u001b[0;34m\"deterministic\"\u001b[0m\u001b[0;34m)\u001b[0m\u001b[0;34m\u001b[0m\u001b[0;34m\u001b[0m\u001b[0m\n\u001b[0;32m--> 627\u001b[0;31m     \u001b[0;32mreturn\u001b[0m \u001b[0msuper\u001b[0m\u001b[0;34m(\u001b[0m\u001b[0mOptions\u001b[0m\u001b[0;34m,\u001b[0m \u001b[0mself\u001b[0m\u001b[0;34m)\u001b[0m\u001b[0;34m.\u001b[0m\u001b[0m__getattribute__\u001b[0m\u001b[0;34m(\u001b[0m\u001b[0mname\u001b[0m\u001b[0;34m)\u001b[0m\u001b[0;34m\u001b[0m\u001b[0;34m\u001b[0m\u001b[0m\n\u001b[0m\u001b[1;32m    628\u001b[0m \u001b[0;34m\u001b[0m\u001b[0m\n\u001b[1;32m    629\u001b[0m   \u001b[0;32mdef\u001b[0m \u001b[0m__setattr__\u001b[0m\u001b[0;34m(\u001b[0m\u001b[0mself\u001b[0m\u001b[0;34m,\u001b[0m \u001b[0mname\u001b[0m\u001b[0;34m,\u001b[0m \u001b[0mvalue\u001b[0m\u001b[0;34m)\u001b[0m\u001b[0;34m:\u001b[0m\u001b[0;34m\u001b[0m\u001b[0;34m\u001b[0m\u001b[0m\n",
            "\u001b[0;31mKeyboardInterrupt\u001b[0m: "
          ]
        }
      ]
    },
    {
      "cell_type": "markdown",
      "source": [
        "# View how accuracy varies with cutoff"
      ],
      "metadata": {
        "id": "qS8-nfPgVP1Y"
      }
    },
    {
      "cell_type": "code",
      "source": [
        "import copy\n",
        "\n",
        "def zero_weights(weights,\n",
        "                 weights_rewards,\n",
        "                 l,\n",
        "                 threshold):\n",
        "\n",
        "    \"\"\"\n",
        "    Zero out a proportion of weights in the given weights matrix according to the rewards.\n",
        "\n",
        "    Parameters:\n",
        "    weights: np array, weight matrix\n",
        "    weights_rewards: np array, weight rewards matrix\n",
        "    l: int, layer number\n",
        "    threshold: float, proportion of weights to 0\n",
        "\n",
        "    Returns:\n",
        "    weights: np array, zeroed weights matrix\n",
        "\n",
        "    \"\"\"\n",
        "\n",
        "    num_remove = int(threshold * np.prod(weights_rewards.shape))\n",
        "    ravel_weights_rewards = np.ravel(weights_rewards)\n",
        "    lowest_ind = np.argsort(ravel_weights_rewards)[:num_remove]\n",
        "    wr_shape = weights_rewards.shape\n",
        "\n",
        "    if wr_shape[0] != 1:\n",
        "\n",
        "      for w in lowest_ind:\n",
        "          w_ind = np.unravel_index(w, wr_shape)\n",
        "          weights[l*2][..., w_ind[0], w_ind[1]] = 0\n",
        "          weights[l*2+1][w_ind[1]] = 0\n",
        "\n",
        "    else:\n",
        "      for w in lowest_ind:\n",
        "          w_ind = np.unravel_index(w, wr_shape)\n",
        "          weights[l*2][:, w_ind[1]] = 0\n",
        "          weights[l*2+1][w_ind[1]] = 0\n",
        "\n",
        "    return weights"
      ],
      "metadata": {
        "id": "FesFwwsSjdYK"
      },
      "execution_count": 5,
      "outputs": []
    },
    {
      "cell_type": "code",
      "source": [
        "import copy\n",
        "import pandas as pd\n",
        "\n",
        "#load model\n",
        "model = keras.models.load_model('model_fixed.keras')\n",
        "weights = model.get_weights()\n",
        "\n",
        "temp_weights = copy.deepcopy(model.get_weights())\n",
        "num_weights = 0\n",
        "for t in temp_weights:\n",
        "   num_weights += np.prod(t.shape)\n",
        "\n",
        "\n",
        "weights_copy = copy.deepcopy(model.get_weights())\n",
        "\n",
        "for i, (l, j) in enumerate(zip([13], [4])):\n",
        "\n",
        "    acc_list = []\n",
        "    sparsity = []\n",
        "\n",
        "    for thr in np.arange(0, 1.0, 0.1):\n",
        "\n",
        "      temp_weights = copy.deepcopy(weights_copy)\n",
        "\n",
        "      weights_rewards = np.load(f'./data_{l}.npy')\n",
        "\n",
        "      temp_weights = zero_weights(temp_weights, weights_rewards, j, thr)\n",
        "\n",
        "      sparse = (thr*np.prod(temp_weights[j*2].shape)+thr*np.prod(temp_weights[j*2+1].shape))/num_weights\n",
        "\n",
        "      sparsity.append(sparse)\n",
        "\n",
        "      model.set_weights(temp_weights)\n",
        "\n",
        "      # evaluate again to see how the accuracy changes\n",
        "      results = model.evaluate(val_images, val_labels, batch_size=128, verbose=0)\n",
        "      acc_list.append(results[1])\n",
        "\n",
        "    plt.Figure()\n",
        "    plt.plot(sparsity, acc_list, 'b-')\n",
        "    plt.ylabel('Accuracy')\n",
        "    plt.xlabel('Sparsity')\n",
        "    plt.title(f'Effects of pruning layer 13 (without additional training)')\n",
        "    plt.show()\n",
        "    plt.close()\n",
        "\n",
        "df = pd.DataFrame({\"sparse\" : sparsity, \"acc\" : acc_list})\n",
        "df.to_csv(\"pareto_results_3_un.csv\", index=False)\n",
        "\n",
        "print(sparsity)\n"
      ],
      "metadata": {
        "id": "p5UOuqHKVZfc",
        "colab": {
          "base_uri": "https://localhost:8080/",
          "height": 509
        },
        "outputId": "1e9ecce8-bae0-4c58-f706-6ef1c0f6332e"
      },
      "execution_count": 117,
      "outputs": [
        {
          "output_type": "display_data",
          "data": {
            "text/plain": [
              "<Figure size 640x480 with 1 Axes>"
            ],
            "image/png": "[encoded data removed]"
          },
          "metadata": {}
        },
        {
          "output_type": "stream",
          "name": "stdout",
          "text": [
            "[0.0, 0.08850915702111369, 0.17701831404222737, 0.2655274710633411, 0.35403662808445474, 0.4425457851055684, 0.5310549421266823, 0.6195640991477959, 0.7080732561689095, 0.7965824131900232]\n"
          ]
        }
      ]
    },
    {
      "cell_type": "code",
      "source": [
        "#load model\n",
        "model = keras.models.load_model('model_fixed.keras')\n",
        "weights = model.get_weights()\n",
        "\n",
        "temp_weights = copy.deepcopy(model.get_weights())\n",
        "num_weights = 0\n",
        "for t in temp_weights:\n",
        "   num_weights += np.prod(t.shape)\n",
        "\n",
        "\n",
        "temp_weights = copy.deepcopy(model.get_weights())\n",
        "\n",
        "for i, (l, j, t) in enumerate(zip([13], [4], [0.9])):\n",
        "\n",
        "    weights_rewards = np.load(f'./data_{l}.npy')\n",
        "\n",
        "    temp_weights = zero_weights(temp_weights, weights_rewards, j, t)\n",
        "\n",
        "model.set_weights(temp_weights)\n",
        "\n",
        "# evaluate again to see how the accuracy changes\n",
        "results = model.evaluate(val_images, val_labels, batch_size=128)\n",
        "model.save('model_pruned_90_2.keras')"
      ],
      "metadata": {
        "colab": {
          "base_uri": "https://localhost:8080/"
        },
        "id": "BOajgRfdFGJM",
        "outputId": "c5f4b213-60af-4bdd-9fdb-f4355c4eaf94"
      },
      "execution_count": 60,
      "outputs": [
        {
          "output_type": "stream",
          "name": "stdout",
          "text": [
            "20/20 [==============================] - 1s 9ms/step - loss: 1.4681 - accuracy: 0.4851\n"
          ]
        }
      ]
    },
    {
      "cell_type": "markdown",
      "source": [
        "# Further training for model"
      ],
      "metadata": {
        "id": "n40ZHyRTJIUd"
      }
    },
    {
      "cell_type": "code",
      "source": [
        "import pandas as pd\n",
        "import copy\n",
        "\n",
        "def further_training(model, model_name, thr):\n",
        "\n",
        "  print('Working on threshold: ', thr)\n",
        "\n",
        "  weights_rewards = np.load(f'./data_13.npy')\n",
        "  temp_weights = copy.deepcopy(model.get_weights())\n",
        "  temp_weights = zero_weights(temp_weights, weights_rewards, 4, thr)\n",
        "\n",
        "  model.set_weights(temp_weights)\n",
        "  # model = keras.models.load_model(model_name+'.keras')\n",
        "\n",
        "  results = model.evaluate(val_images, val_labels, batch_size=2525)\n",
        "\n",
        "  for i in range(10):\n",
        "      print(f'Epoch {i}')\n",
        "      history = model.fit(train_images, train_labels, batch_size=32, epochs=1,\n",
        "                      validation_data=(val_images, val_labels))\n",
        "\n",
        "      temp_weights = copy.deepcopy(model.get_weights())\n",
        "      temp_weights = zero_weights(temp_weights, weights_rewards, 4, thr)\n",
        "\n",
        "      model.set_weights(temp_weights)\n",
        "\n",
        "  del temp_weights\n",
        "\n",
        "  return model\n",
        "\n",
        "\n",
        "temp_weights = copy.deepcopy(model.get_weights())\n",
        "num_weights = 0\n",
        "num_nonzeros = 0\n",
        "for t in temp_weights:\n",
        "   num_weights += np.prod(t.shape)\n",
        "   num_nonzeros += np.count_nonzero(t)\n",
        "\n",
        "sparse = 1 - num_nonzeros/num_weights\n",
        "\n",
        "acc_list = []\n",
        "sparse_list = []\n",
        "\n",
        "model = keras.models.load_model('model_fixed.keras')\n",
        "\n",
        "for i in np.arange(0, 1.0, 0.1):\n",
        "\n",
        "    model = keras.models.load_model('model_fixed.keras')\n",
        "    model_name = f'model_pruned_{i*10}'\n",
        "    model = further_training(model, model_name, i)\n",
        "\n",
        "    results = model.evaluate(val_images, val_labels, batch_size=2525)\n",
        "\n",
        "    #calculate sparsity\n",
        "    temp_weights = copy.deepcopy(model.get_weights())\n",
        "    num_nonzeros = 0\n",
        "    for t in temp_weights:\n",
        "        num_nonzeros += np.count_nonzero(t)\n",
        "    sparse_list.append(1 - num_nonzeros/num_weights)\n",
        "\n",
        "    acc_list.append(results[1])\n",
        "\n",
        "df = pd.DataFrame({\"sparse\" : sparse_list, \"acc\" : acc_list})\n",
        "df.to_csv(\"pareto_results.csv\", index=False)\n",
        "\n",
        "# model.save(model_name+'retrained.keras')"
      ],
      "metadata": {
        "colab": {
          "base_uri": "https://localhost:8080/"
        },
        "id": "s9fHYVLHJHpG",
        "outputId": "9cb61abc-e8ff-40f6-d738-0c4dfa00bdf3"
      },
      "execution_count": 8,
      "outputs": [
        {
          "output_type": "stream",
          "name": "stdout",
          "text": [
            "Working on threshold:  0.0\n",
            "1/1 [==============================] - 1s 1s/step - loss: 0.7137 - accuracy: 0.7236\n",
            "Epoch 0\n",
            "703/703 [==============================] - 9s 6ms/step - loss: 0.6143 - accuracy: 0.7709 - val_loss: 0.7454 - val_accuracy: 0.7141\n",
            "Epoch 1\n",
            "703/703 [==============================] - 4s 6ms/step - loss: 0.6110 - accuracy: 0.7743 - val_loss: 0.7145 - val_accuracy: 0.7283\n",
            "Epoch 2\n",
            "703/703 [==============================] - 5s 7ms/step - loss: 0.6015 - accuracy: 0.7771 - val_loss: 0.7109 - val_accuracy: 0.7319\n",
            "Epoch 3\n",
            "703/703 [==============================] - 4s 6ms/step - loss: 0.5993 - accuracy: 0.7742 - val_loss: 0.7341 - val_accuracy: 0.7204\n",
            "Epoch 4\n",
            "703/703 [==============================] - 4s 6ms/step - loss: 0.5913 - accuracy: 0.7787 - val_loss: 0.7073 - val_accuracy: 0.7275\n",
            "Epoch 5\n",
            "703/703 [==============================] - 4s 5ms/step - loss: 0.5833 - accuracy: 0.7822 - val_loss: 0.7164 - val_accuracy: 0.7263\n",
            "Epoch 6\n",
            "703/703 [==============================] - 4s 6ms/step - loss: 0.5780 - accuracy: 0.7818 - val_loss: 0.7379 - val_accuracy: 0.7145\n",
            "Epoch 7\n",
            "703/703 [==============================] - 4s 6ms/step - loss: 0.5716 - accuracy: 0.7859 - val_loss: 0.7362 - val_accuracy: 0.7248\n",
            "Epoch 8\n",
            "703/703 [==============================] - 4s 5ms/step - loss: 0.5638 - accuracy: 0.7883 - val_loss: 0.7167 - val_accuracy: 0.7279\n",
            "Epoch 9\n",
            "703/703 [==============================] - 5s 7ms/step - loss: 0.5533 - accuracy: 0.7935 - val_loss: 0.7036 - val_accuracy: 0.7366\n",
            "1/1 [==============================] - 0s 74ms/step - loss: 0.7036 - accuracy: 0.7366\n",
            "Working on threshold:  0.1\n",
            "1/1 [==============================] - 0s 415ms/step - loss: 0.7516 - accuracy: 0.7089\n",
            "Epoch 0\n",
            "703/703 [==============================] - 5s 6ms/step - loss: 0.6324 - accuracy: 0.7642 - val_loss: 0.7369 - val_accuracy: 0.7232\n",
            "Epoch 1\n",
            "703/703 [==============================] - 4s 6ms/step - loss: 0.6186 - accuracy: 0.7645 - val_loss: 0.7270 - val_accuracy: 0.7208\n",
            "Epoch 2\n",
            "703/703 [==============================] - 4s 6ms/step - loss: 0.6106 - accuracy: 0.7659 - val_loss: 0.7271 - val_accuracy: 0.7204\n",
            "Epoch 3\n",
            "703/703 [==============================] - 4s 6ms/step - loss: 0.6066 - accuracy: 0.7714 - val_loss: 0.7110 - val_accuracy: 0.7327\n",
            "Epoch 4\n",
            "703/703 [==============================] - 4s 6ms/step - loss: 0.5980 - accuracy: 0.7749 - val_loss: 0.7205 - val_accuracy: 0.7255\n",
            "Epoch 5\n",
            "703/703 [==============================] - 4s 5ms/step - loss: 0.5955 - accuracy: 0.7759 - val_loss: 0.7365 - val_accuracy: 0.7255\n",
            "Epoch 6\n",
            "703/703 [==============================] - 4s 5ms/step - loss: 0.5870 - accuracy: 0.7810 - val_loss: 0.7423 - val_accuracy: 0.7204\n",
            "Epoch 7\n",
            "703/703 [==============================] - 5s 7ms/step - loss: 0.5781 - accuracy: 0.7846 - val_loss: 0.7433 - val_accuracy: 0.7220\n",
            "Epoch 8\n",
            "703/703 [==============================] - 4s 6ms/step - loss: 0.5732 - accuracy: 0.7844 - val_loss: 0.7212 - val_accuracy: 0.7275\n",
            "Epoch 9\n",
            "703/703 [==============================] - 4s 6ms/step - loss: 0.5674 - accuracy: 0.7868 - val_loss: 0.7122 - val_accuracy: 0.7343\n",
            "1/1 [==============================] - 0s 72ms/step - loss: 0.7122 - accuracy: 0.7343\n",
            "Working on threshold:  0.2\n",
            "1/1 [==============================] - 0s 388ms/step - loss: 0.7990 - accuracy: 0.6950\n",
            "Epoch 0\n",
            "703/703 [==============================] - 6s 6ms/step - loss: 0.6431 - accuracy: 0.7580 - val_loss: 0.7495 - val_accuracy: 0.7129\n",
            "Epoch 1\n",
            "703/703 [==============================] - 4s 5ms/step - loss: 0.6366 - accuracy: 0.7635 - val_loss: 0.7365 - val_accuracy: 0.7176\n",
            "Epoch 2\n",
            "703/703 [==============================] - 5s 6ms/step - loss: 0.6278 - accuracy: 0.7647 - val_loss: 0.7331 - val_accuracy: 0.7180\n",
            "Epoch 3\n",
            "703/703 [==============================] - 4s 6ms/step - loss: 0.6221 - accuracy: 0.7626 - val_loss: 0.7457 - val_accuracy: 0.7145\n",
            "Epoch 4\n",
            "703/703 [==============================] - 5s 7ms/step - loss: 0.6157 - accuracy: 0.7708 - val_loss: 0.7129 - val_accuracy: 0.7331\n",
            "Epoch 5\n",
            "703/703 [==============================] - 4s 6ms/step - loss: 0.6043 - accuracy: 0.7754 - val_loss: 0.7418 - val_accuracy: 0.7160\n",
            "Epoch 6\n",
            "703/703 [==============================] - 4s 5ms/step - loss: 0.5967 - accuracy: 0.7786 - val_loss: 0.7077 - val_accuracy: 0.7299\n",
            "Epoch 7\n",
            "703/703 [==============================] - 4s 6ms/step - loss: 0.5938 - accuracy: 0.7774 - val_loss: 0.7145 - val_accuracy: 0.7354\n",
            "Epoch 8\n",
            "703/703 [==============================] - 4s 6ms/step - loss: 0.5874 - accuracy: 0.7810 - val_loss: 0.7283 - val_accuracy: 0.7251\n",
            "Epoch 9\n",
            "703/703 [==============================] - 5s 7ms/step - loss: 0.5852 - accuracy: 0.7800 - val_loss: 0.7153 - val_accuracy: 0.7327\n",
            "1/1 [==============================] - 0s 72ms/step - loss: 0.7153 - accuracy: 0.7327\n",
            "Working on threshold:  0.30000000000000004\n",
            "1/1 [==============================] - 0s 273ms/step - loss: 0.8571 - accuracy: 0.6685\n",
            "Epoch 0\n",
            "703/703 [==============================] - 6s 6ms/step - loss: 0.6734 - accuracy: 0.7474 - val_loss: 0.7483 - val_accuracy: 0.7137\n",
            "Epoch 1\n",
            "703/703 [==============================] - 4s 6ms/step - loss: 0.6531 - accuracy: 0.7542 - val_loss: 0.7295 - val_accuracy: 0.7176\n",
            "Epoch 2\n",
            "703/703 [==============================] - 4s 6ms/step - loss: 0.6494 - accuracy: 0.7520 - val_loss: 0.7474 - val_accuracy: 0.7196\n",
            "Epoch 3\n",
            "703/703 [==============================] - 4s 6ms/step - loss: 0.6325 - accuracy: 0.7632 - val_loss: 0.7411 - val_accuracy: 0.7156\n",
            "Epoch 4\n",
            "703/703 [==============================] - 5s 7ms/step - loss: 0.6258 - accuracy: 0.7656 - val_loss: 0.7521 - val_accuracy: 0.7176\n",
            "Epoch 5\n",
            "703/703 [==============================] - 4s 6ms/step - loss: 0.6192 - accuracy: 0.7716 - val_loss: 0.7416 - val_accuracy: 0.7208\n",
            "Epoch 6\n",
            "703/703 [==============================] - 4s 6ms/step - loss: 0.6187 - accuracy: 0.7672 - val_loss: 0.7126 - val_accuracy: 0.7267\n",
            "Epoch 7\n",
            "703/703 [==============================] - 5s 7ms/step - loss: 0.6110 - accuracy: 0.7730 - val_loss: 0.7345 - val_accuracy: 0.7287\n",
            "Epoch 8\n",
            "703/703 [==============================] - 4s 6ms/step - loss: 0.6068 - accuracy: 0.7737 - val_loss: 0.7187 - val_accuracy: 0.7303\n",
            "Epoch 9\n",
            "703/703 [==============================] - 5s 7ms/step - loss: 0.5983 - accuracy: 0.7781 - val_loss: 0.7050 - val_accuracy: 0.7339\n",
            "1/1 [==============================] - 0s 77ms/step - loss: 0.7050 - accuracy: 0.7339\n",
            "Working on threshold:  0.4\n",
            "1/1 [==============================] - 0s 315ms/step - loss: 0.9355 - accuracy: 0.6356\n",
            "Epoch 0\n",
            "703/703 [==============================] - 5s 6ms/step - loss: 0.6858 - accuracy: 0.7425 - val_loss: 0.7508 - val_accuracy: 0.7176\n",
            "Epoch 1\n",
            "703/703 [==============================] - 4s 6ms/step - loss: 0.6814 - accuracy: 0.7400 - val_loss: 0.7689 - val_accuracy: 0.7105\n",
            "Epoch 2\n",
            "703/703 [==============================] - 4s 5ms/step - loss: 0.6708 - accuracy: 0.7473 - val_loss: 0.7404 - val_accuracy: 0.7172\n",
            "Epoch 3\n",
            "703/703 [==============================] - 4s 5ms/step - loss: 0.6570 - accuracy: 0.7536 - val_loss: 0.7474 - val_accuracy: 0.7188\n",
            "Epoch 4\n",
            "703/703 [==============================] - 5s 7ms/step - loss: 0.6442 - accuracy: 0.7586 - val_loss: 0.7350 - val_accuracy: 0.7204\n",
            "Epoch 5\n",
            "703/703 [==============================] - 4s 6ms/step - loss: 0.6369 - accuracy: 0.7616 - val_loss: 0.7352 - val_accuracy: 0.7228\n",
            "Epoch 6\n",
            "703/703 [==============================] - 4s 6ms/step - loss: 0.6332 - accuracy: 0.7634 - val_loss: 0.7207 - val_accuracy: 0.7283\n",
            "Epoch 7\n",
            "703/703 [==============================] - 4s 6ms/step - loss: 0.6272 - accuracy: 0.7645 - val_loss: 0.7260 - val_accuracy: 0.7208\n",
            "Epoch 8\n",
            "703/703 [==============================] - 4s 5ms/step - loss: 0.6237 - accuracy: 0.7675 - val_loss: 0.7201 - val_accuracy: 0.7236\n",
            "Epoch 9\n",
            "703/703 [==============================] - 5s 7ms/step - loss: 0.6221 - accuracy: 0.7673 - val_loss: 0.7151 - val_accuracy: 0.7339\n",
            "1/1 [==============================] - 0s 149ms/step - loss: 0.7151 - accuracy: 0.7339\n",
            "Working on threshold:  0.5\n",
            "1/1 [==============================] - 0s 326ms/step - loss: 1.0058 - accuracy: 0.6111\n",
            "Epoch 0\n",
            "703/703 [==============================] - 5s 6ms/step - loss: 0.7166 - accuracy: 0.7333 - val_loss: 0.7465 - val_accuracy: 0.7137\n",
            "Epoch 1\n",
            "703/703 [==============================] - 4s 6ms/step - loss: 0.7071 - accuracy: 0.7334 - val_loss: 0.7583 - val_accuracy: 0.7061\n",
            "Epoch 2\n",
            "703/703 [==============================] - 4s 6ms/step - loss: 0.6966 - accuracy: 0.7392 - val_loss: 0.7362 - val_accuracy: 0.7228\n",
            "Epoch 3\n",
            "703/703 [==============================] - 4s 6ms/step - loss: 0.6847 - accuracy: 0.7426 - val_loss: 0.7408 - val_accuracy: 0.7137\n",
            "Epoch 4\n",
            "703/703 [==============================] - 5s 7ms/step - loss: 0.6771 - accuracy: 0.7448 - val_loss: 0.7284 - val_accuracy: 0.7196\n",
            "Epoch 5\n",
            "703/703 [==============================] - 4s 6ms/step - loss: 0.6637 - accuracy: 0.7485 - val_loss: 0.7278 - val_accuracy: 0.7240\n",
            "Epoch 6\n",
            "703/703 [==============================] - 4s 6ms/step - loss: 0.6554 - accuracy: 0.7553 - val_loss: 0.7797 - val_accuracy: 0.7046\n",
            "Epoch 7\n",
            "703/703 [==============================] - 5s 7ms/step - loss: 0.6492 - accuracy: 0.7601 - val_loss: 0.7344 - val_accuracy: 0.7172\n",
            "Epoch 8\n",
            "703/703 [==============================] - 4s 6ms/step - loss: 0.6409 - accuracy: 0.7602 - val_loss: 0.7595 - val_accuracy: 0.7121\n",
            "Epoch 9\n",
            "703/703 [==============================] - 4s 6ms/step - loss: 0.6418 - accuracy: 0.7623 - val_loss: 0.7168 - val_accuracy: 0.7283\n",
            "1/1 [==============================] - 0s 60ms/step - loss: 0.7168 - accuracy: 0.7283\n",
            "Working on threshold:  0.6000000000000001\n",
            "1/1 [==============================] - 0s 290ms/step - loss: 1.0757 - accuracy: 0.5794\n",
            "Epoch 0\n",
            "703/703 [==============================] - 6s 6ms/step - loss: 0.7434 - accuracy: 0.7218 - val_loss: 0.7749 - val_accuracy: 0.7014\n",
            "Epoch 1\n",
            "703/703 [==============================] - 4s 6ms/step - loss: 0.7323 - accuracy: 0.7234 - val_loss: 0.7515 - val_accuracy: 0.7125\n",
            "Epoch 2\n",
            "703/703 [==============================] - 4s 6ms/step - loss: 0.7193 - accuracy: 0.7301 - val_loss: 0.7444 - val_accuracy: 0.7216\n",
            "Epoch 3\n",
            "703/703 [==============================] - 4s 6ms/step - loss: 0.7104 - accuracy: 0.7331 - val_loss: 0.7430 - val_accuracy: 0.7149\n",
            "Epoch 4\n",
            "703/703 [==============================] - 5s 7ms/step - loss: 0.6929 - accuracy: 0.7389 - val_loss: 0.7865 - val_accuracy: 0.6954\n",
            "Epoch 5\n",
            "703/703 [==============================] - 4s 6ms/step - loss: 0.6874 - accuracy: 0.7437 - val_loss: 0.7425 - val_accuracy: 0.7200\n",
            "Epoch 6\n",
            "703/703 [==============================] - 4s 6ms/step - loss: 0.6833 - accuracy: 0.7464 - val_loss: 0.7414 - val_accuracy: 0.7164\n",
            "Epoch 7\n",
            "703/703 [==============================] - 4s 6ms/step - loss: 0.6772 - accuracy: 0.7451 - val_loss: 0.7344 - val_accuracy: 0.7212\n",
            "Epoch 8\n",
            "703/703 [==============================] - 5s 7ms/step - loss: 0.6654 - accuracy: 0.7503 - val_loss: 0.7535 - val_accuracy: 0.7172\n",
            "Epoch 9\n",
            "703/703 [==============================] - 4s 6ms/step - loss: 0.6590 - accuracy: 0.7548 - val_loss: 0.7389 - val_accuracy: 0.7188\n",
            "1/1 [==============================] - 0s 49ms/step - loss: 0.7580 - accuracy: 0.7065\n",
            "Working on threshold:  0.7000000000000001\n",
            "1/1 [==============================] - 1s 816ms/step - loss: 1.1854 - accuracy: 0.5354\n",
            "Epoch 0\n",
            "703/703 [==============================] - 6s 7ms/step - loss: 0.7723 - accuracy: 0.7098 - val_loss: 0.7640 - val_accuracy: 0.7109\n",
            "Epoch 1\n",
            "703/703 [==============================] - 4s 6ms/step - loss: 0.7637 - accuracy: 0.7115 - val_loss: 0.7787 - val_accuracy: 0.7097\n",
            "Epoch 2\n",
            "703/703 [==============================] - 4s 6ms/step - loss: 0.7565 - accuracy: 0.7152 - val_loss: 0.7706 - val_accuracy: 0.7069\n",
            "Epoch 3\n",
            "703/703 [==============================] - 4s 6ms/step - loss: 0.7627 - accuracy: 0.7144 - val_loss: 0.7492 - val_accuracy: 0.7188\n",
            "Epoch 4\n",
            "703/703 [==============================] - 5s 7ms/step - loss: 0.7476 - accuracy: 0.7208 - val_loss: 0.7781 - val_accuracy: 0.7010\n",
            "Epoch 5\n",
            "703/703 [==============================] - 4s 6ms/step - loss: 0.7387 - accuracy: 0.7236 - val_loss: 0.7954 - val_accuracy: 0.6950\n",
            "Epoch 6\n",
            "703/703 [==============================] - 4s 6ms/step - loss: 0.7273 - accuracy: 0.7305 - val_loss: 0.7520 - val_accuracy: 0.7176\n",
            "Epoch 7\n",
            "703/703 [==============================] - 5s 7ms/step - loss: 0.7165 - accuracy: 0.7319 - val_loss: 0.7580 - val_accuracy: 0.7176\n",
            "Epoch 8\n",
            "703/703 [==============================] - 4s 6ms/step - loss: 0.7200 - accuracy: 0.7313 - val_loss: 0.7496 - val_accuracy: 0.7160\n",
            "Epoch 9\n",
            "703/703 [==============================] - 5s 7ms/step - loss: 0.7059 - accuracy: 0.7393 - val_loss: 0.7311 - val_accuracy: 0.7216\n",
            "1/1 [==============================] - 0s 60ms/step - loss: 0.7334 - accuracy: 0.7196\n",
            "Working on threshold:  0.8\n",
            "1/1 [==============================] - 0s 291ms/step - loss: 1.2751 - accuracy: 0.5105\n",
            "Epoch 0\n",
            "703/703 [==============================] - 6s 6ms/step - loss: 0.8147 - accuracy: 0.6903 - val_loss: 0.7829 - val_accuracy: 0.7018\n",
            "Epoch 1\n",
            "703/703 [==============================] - 5s 7ms/step - loss: 0.8252 - accuracy: 0.6889 - val_loss: 0.7881 - val_accuracy: 0.6986\n",
            "Epoch 2\n",
            "703/703 [==============================] - 4s 6ms/step - loss: 0.8090 - accuracy: 0.6949 - val_loss: 0.7813 - val_accuracy: 0.6939\n",
            "Epoch 3\n",
            "703/703 [==============================] - 4s 6ms/step - loss: 0.8089 - accuracy: 0.6994 - val_loss: 0.7804 - val_accuracy: 0.7057\n",
            "Epoch 4\n",
            "703/703 [==============================] - 5s 7ms/step - loss: 0.7928 - accuracy: 0.7025 - val_loss: 0.7815 - val_accuracy: 0.7050\n",
            "Epoch 5\n",
            "703/703 [==============================] - 4s 6ms/step - loss: 0.7838 - accuracy: 0.7091 - val_loss: 0.7642 - val_accuracy: 0.7093\n",
            "Epoch 6\n",
            "703/703 [==============================] - 4s 6ms/step - loss: 0.7799 - accuracy: 0.7127 - val_loss: 0.7678 - val_accuracy: 0.7081\n",
            "Epoch 7\n",
            "703/703 [==============================] - 4s 6ms/step - loss: 0.7639 - accuracy: 0.7157 - val_loss: 0.7671 - val_accuracy: 0.7145\n",
            "Epoch 8\n",
            "703/703 [==============================] - 4s 6ms/step - loss: 0.7610 - accuracy: 0.7166 - val_loss: 0.7696 - val_accuracy: 0.7121\n",
            "Epoch 9\n",
            "703/703 [==============================] - 5s 7ms/step - loss: 0.7459 - accuracy: 0.7194 - val_loss: 0.7764 - val_accuracy: 0.7129\n",
            "1/1 [==============================] - 0s 63ms/step - loss: 0.8606 - accuracy: 0.6729\n",
            "Working on threshold:  0.9\n",
            "1/1 [==============================] - 0s 275ms/step - loss: 1.3903 - accuracy: 0.4416\n",
            "Epoch 0\n",
            "703/703 [==============================] - 7s 7ms/step - loss: 0.8609 - accuracy: 0.6763 - val_loss: 0.7918 - val_accuracy: 0.6939\n",
            "Epoch 1\n",
            "703/703 [==============================] - 4s 6ms/step - loss: 0.8647 - accuracy: 0.6720 - val_loss: 0.7865 - val_accuracy: 0.6994\n",
            "Epoch 2\n",
            "703/703 [==============================] - 4s 6ms/step - loss: 0.8599 - accuracy: 0.6765 - val_loss: 0.7953 - val_accuracy: 0.6939\n",
            "Epoch 3\n",
            "703/703 [==============================] - 4s 6ms/step - loss: 0.8653 - accuracy: 0.6730 - val_loss: 0.8007 - val_accuracy: 0.6939\n",
            "Epoch 4\n",
            "703/703 [==============================] - 5s 7ms/step - loss: 0.8638 - accuracy: 0.6739 - val_loss: 0.8196 - val_accuracy: 0.6851\n",
            "Epoch 5\n",
            "703/703 [==============================] - 4s 6ms/step - loss: 0.8480 - accuracy: 0.6874 - val_loss: 0.7982 - val_accuracy: 0.6931\n",
            "Epoch 6\n",
            "703/703 [==============================] - 4s 6ms/step - loss: 0.8373 - accuracy: 0.6859 - val_loss: 0.8137 - val_accuracy: 0.6768\n",
            "Epoch 7\n",
            "703/703 [==============================] - 4s 6ms/step - loss: 0.8334 - accuracy: 0.6873 - val_loss: 0.7844 - val_accuracy: 0.7053\n",
            "Epoch 8\n",
            "703/703 [==============================] - 4s 6ms/step - loss: 0.8338 - accuracy: 0.6886 - val_loss: 0.7795 - val_accuracy: 0.7085\n",
            "Epoch 9\n",
            "703/703 [==============================] - 5s 7ms/step - loss: 0.8154 - accuracy: 0.6959 - val_loss: 0.7768 - val_accuracy: 0.7046\n",
            "1/1 [==============================] - 0s 56ms/step - loss: 0.9706 - accuracy: 0.6400\n"
          ]
        }
      ]
    },
    {
      "cell_type": "code",
      "source": [
        "df = pd.DataFrame({\"sparse\" : sparse_list, \"acc\" : acc_list})\n",
        "df.to_csv(\"pareto_results.csv\", index=False)"
      ],
      "metadata": {
        "id": "NMj2e3Q6hrWl"
      },
      "execution_count": 52,
      "outputs": []
    },
    {
      "cell_type": "code",
      "source": [
        "print(df)"
      ],
      "metadata": {
        "colab": {
          "base_uri": "https://localhost:8080/"
        },
        "id": "gYzvUBJKhvp0",
        "outputId": "a2cf714c-ef8b-4990-c12a-74d872c230c5"
      },
      "execution_count": 53,
      "outputs": [
        {
          "output_type": "stream",
          "name": "stdout",
          "text": [
            "   sparse       acc\n",
            "0     0.0  0.736634\n",
            "1     0.1  0.734257\n",
            "2     0.2  0.732673\n",
            "3     0.3  0.733861\n",
            "4     0.4  0.733861\n",
            "5     0.5  0.728317\n",
            "6     0.6  0.706535\n",
            "7     0.7  0.719604\n",
            "8     0.8  0.672871\n",
            "9     0.9  0.640000\n"
          ]
        }
      ]
    },
    {
      "cell_type": "markdown",
      "source": [
        "# Calculate sparsity"
      ],
      "metadata": {
        "id": "E7Nvx_osTep7"
      }
    },
    {
      "cell_type": "code",
      "source": [
        "temp_weights = copy.deepcopy(model.get_weights())\n",
        "num_weights = 0\n",
        "num_nonzeros = 0\n",
        "for t in temp_weights:\n",
        "   num_weights += np.prod(t.shape)\n",
        "   num_nonzeros += np.count_nonzero(t)\n",
        "\n",
        "sparse = 1 - num_nonzeros/num_weights\n",
        "\n",
        "print(sparse)"
      ],
      "metadata": {
        "colab": {
          "base_uri": "https://localhost:8080/"
        },
        "id": "PUUUvLUBLC8u",
        "outputId": "5302405d-bf53-4218-bf21-e99acccc837b"
      },
      "execution_count": 9,
      "outputs": [
        {
          "output_type": "stream",
          "name": "stdout",
          "text": [
            "0.7951994576115683\n"
          ]
        }
      ]
    },
    {
      "cell_type": "markdown",
      "source": [
        "# Extract weights and save"
      ],
      "metadata": {
        "id": "RQkiJYBzTin7"
      }
    },
    {
      "cell_type": "code",
      "metadata": {
        "id": "wMSKQW4k4T-G",
        "colab": {
          "base_uri": "https://localhost:8080/",
          "height": 17
        },
        "outputId": "f272ae5b-039f-412c-84d0-16154dd6301f"
      },
      "source": [
        "# you need to save the model's weights, naming it 'my_model_weights.h5'\n",
        "model.save_weights(\"my_model_weights.h5\")\n",
        "\n",
        "# running this cell will immediately download a file called 'my_model_weights.h5'\n",
        "from google.colab import files\n",
        "files.download(\"my_model_weights.h5\")"
      ],
      "execution_count": 63,
      "outputs": [
        {
          "output_type": "display_data",
          "data": {
            "text/plain": [
              "<IPython.core.display.Javascript object>"
            ],
            "application/javascript": [
              "\n",
              "    async function download(id, filename, size) {\n",
              "      if (!google.colab.kernel.accessAllowed) {\n",
              "        return;\n",
              "      }\n",
              "      const div = document.createElement('div');\n",
              "      const label = document.createElement('label');\n",
              "      label.textContent = `Downloading \"${filename}\": `;\n",
              "      div.appendChild(label);\n",
              "      const progress = document.createElement('progress');\n",
              "      progress.max = size;\n",
              "      div.appendChild(progress);\n",
              "      document.body.appendChild(div);\n",
              "\n",
              "      const buffers = [];\n",
              "      let downloaded = 0;\n",
              "\n",
              "      const channel = await google.colab.kernel.comms.open(id);\n",
              "      // Send a message to notify the kernel that we're ready.\n",
              "      channel.send({})\n",
              "\n",
              "      for await (const message of channel.messages) {\n",
              "        // Send a message to notify the kernel that we're ready.\n",
              "        channel.send({})\n",
              "        if (message.buffers) {\n",
              "          for (const buffer of message.buffers) {\n",
              "            buffers.push(buffer);\n",
              "            downloaded += buffer.byteLength;\n",
              "            progress.value = downloaded;\n",
              "          }\n",
              "        }\n",
              "      }\n",
              "      const blob = new Blob(buffers, {type: 'application/binary'});\n",
              "      const a = document.createElement('a');\n",
              "      a.href = window.URL.createObjectURL(blob);\n",
              "      a.download = filename;\n",
              "      div.appendChild(a);\n",
              "      a.click();\n",
              "      div.remove();\n",
              "    }\n",
              "  "
            ]
          },
          "metadata": {}
        },
        {
          "output_type": "display_data",
          "data": {
            "text/plain": [
              "<IPython.core.display.Javascript object>"
            ],
            "application/javascript": [
              "download(\"download_f32303b8-e0be-45e1-97b2-53093bb471ad\", \"my_model_weights.h5\", 2407040)"
            ]
          },
          "metadata": {}
        }
      ]
    },
    {
      "cell_type": "markdown",
      "source": [
        "# Plot Pareto Front"
      ],
      "metadata": {
        "id": "VNN6SPEoaBkO"
      }
    },
    {
      "cell_type": "code",
      "source": [
        "#load data from other methods\n",
        "import pandas as pd\n",
        "\n",
        "data_list = []\n",
        "unt_data_list = []\n",
        "\n",
        "folder = '/content/data'\n",
        "file_list = os.listdir(folder)\n",
        "\n",
        "for i in range(3):\n",
        "\n",
        "  data = pd.read_csv(os.path.join(folder, f'pareto_results_{i+1}.csv'))\n",
        "  data.dropna(axis=1, how='all', inplace=True)\n",
        "  data.dropna(axis=0, inplace=True)\n",
        "  print(data)\n",
        "  all_data = np.concatenate([data['acc'].to_numpy().reshape(-1,1), data['sparse'].to_numpy().reshape(-1,1)], axis=1)\n",
        "  data_list.append(all_data)\n",
        "\n",
        "for i in range(3):\n",
        "\n",
        "  data = pd.read_csv(os.path.join(folder, f'pareto_results_{i+1}_un.csv'))\n",
        "  data.dropna(axis=1, how='all', inplace=True)\n",
        "  data.dropna(axis=0, inplace=True)\n",
        "  all_data = np.concatenate([data['acc'].to_numpy().reshape(-1,1), data['sparse'].to_numpy().reshape(-1,1)], axis=1)\n",
        "  unt_data_list.append(all_data)"
      ],
      "metadata": {
        "colab": {
          "base_uri": "https://localhost:8080/"
        },
        "id": "jowUjl83cfFe",
        "outputId": "d262a214-30e9-439c-ac65-967b84d4b089"
      },
      "execution_count": 129,
      "outputs": [
        {
          "output_type": "stream",
          "name": "stdout",
          "text": [
            "   sparse    acc\n",
            "0   0.000  0.743\n",
            "1   0.317  0.727\n",
            "2   0.588  0.757\n",
            "3   0.768  0.719\n",
            "4   0.852  0.722\n",
            "5   0.880  0.626\n",
            "6   0.886  0.398\n",
            "7   0.888  0.224\n",
            "8   0.888  0.192\n",
            "9   0.889  0.192\n",
            "     sparse    acc\n",
            "0   0.00000  0.725\n",
            "1   0.00248  0.725\n",
            "2   0.00749  0.730\n",
            "3   0.06630  0.722\n",
            "4   0.19100  0.699\n",
            "5   0.40500  0.687\n",
            "6   0.60900  0.626\n",
            "7   0.82000  0.501\n",
            "8   0.93100  0.368\n",
            "9   0.96700  0.342\n",
            "10  0.98900  0.268\n",
            "     sparse       acc\n",
            "0  0.000000  0.736634\n",
            "1  0.088509  0.734257\n",
            "2  0.177018  0.732673\n",
            "3  0.265527  0.733861\n",
            "4  0.354037  0.733861\n",
            "5  0.442546  0.728317\n",
            "6  0.531055  0.706535\n",
            "7  0.619564  0.719604\n",
            "8  0.708073  0.672871\n",
            "9  0.796582  0.640000\n"
          ]
        }
      ]
    },
    {
      "cell_type": "code",
      "source": [
        "def calculate_pareto(data_list):\n",
        "\n",
        "  fronts = []\n",
        "  for i in range(len(data_list)):\n",
        "\n",
        "    all_data = data_list[i]\n",
        "\n",
        "    sum_coords = np.sum(all_data, axis=1)\n",
        "    sorted_points = all_data[np.argsort(sum_coords)[::-1]]\n",
        "\n",
        "    on_front = []\n",
        "\n",
        "    for j in range(sorted_points.shape[0]):\n",
        "\n",
        "        if (np.argmax(sorted_points[:j+1, 0]) == j) or (np.argmax(sorted_points[:j+1, 1]) == j):\n",
        "\n",
        "          on_front.append(j)\n",
        "\n",
        "    on_front= sorted_points[np.array(on_front)]\n",
        "\n",
        "    sorted_data_x = on_front[on_front[:, 1].argsort()]\n",
        "    fronts.append(sorted_data_x)\n",
        "\n",
        "  return fronts\n",
        "\n",
        "fronts = calculate_pareto(data_list)\n",
        "unt_fronts = calculate_pareto(unt_data_list)\n"
      ],
      "metadata": {
        "id": "5c-EYy3ib2Kv"
      },
      "execution_count": 130,
      "outputs": []
    },
    {
      "cell_type": "code",
      "source": [
        "color = ['b.', 'r.', 'g.']\n",
        "color_pareto = ['purple', 'orange', 'gray']\n",
        "name_list = ['Magnitude-based Filter', 'Network Slimming', 'MAB']\n",
        "\n",
        "plt.Figure()\n",
        "\n",
        "#plot points\n",
        "for i in range(3):\n",
        "    plt.plot(data_list[i][:, 0], data_list[i][:, 1], color[i], label=name_list[i], markersize=10)\n",
        "    plt.plot(fronts[i][:, 0], fronts[i][:, 1], '-', color=color_pareto[i])\n",
        "\n",
        "\n",
        "plt.xlabel('Accuracy')\n",
        "plt.ylabel('Sparsity')\n",
        "plt.title('Pareto front plot of sparsity against accuracy \\n for different methods with additional training')\n",
        "plt.legend(bbox_to_anchor=(1.65, 1.05))\n",
        "plt.show()\n",
        "\n",
        "fig, ax = plt.subplots(1, 2, figsize=(10, 5))\n",
        "\n",
        "#plot points\n",
        "data_list_2 = [data_list, unt_data_list]\n",
        "front_list_2 = [fronts, unt_fronts]\n",
        "\n",
        "for j in range(2):\n",
        "  for i in range(3):\n",
        "      ax[j].plot(data_list_2[j][i][:, 0], data_list_2[j][i][:, 1], color[i], label=name_list[i], markersize=10)\n",
        "      ax[j].plot(front_list_2[j][i][:, 0], front_list_2[j][i][:, 1], '-', color=color_pareto[i])\n",
        "\n",
        "  ax[j].set_xlabel('Accuracy')\n",
        "  ax[j].set_ylabel('Sparsity')\n",
        "  if j== 0:\n",
        "    ax[j].set_title('After training')\n",
        "  else:\n",
        "    ax[j].set_title('Before training')\n",
        "    ax[j].legend(bbox_to_anchor=(1.65, 1.05))\n",
        "\n",
        "fig.suptitle('Pareto front plot of sparsity against accuracy for different methods')\n",
        "plt.show()"
      ],
      "metadata": {
        "colab": {
          "base_uri": "https://localhost:8080/",
          "height": 991
        },
        "id": "SHDeO8jzaLhF",
        "outputId": "ab6cf351-42b8-4d8e-9ea3-28979b45cc93"
      },
      "execution_count": 131,
      "outputs": [
        {
          "output_type": "display_data",
          "data": {
            "text/plain": [
              "<Figure size 640x480 with 1 Axes>"
            ],
            "image/png": "[encoded data removed]"
          },
          "metadata": {}
        },
        {
          "output_type": "display_data",
          "data": {
            "text/plain": [
              "<Figure size 1000x500 with 2 Axes>"
            ],
            "image/png": "[encoded data removed]"
          },
          "metadata": {}
        }
      ]
    }
  ]
}