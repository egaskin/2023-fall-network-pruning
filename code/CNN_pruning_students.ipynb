{
  "nbformat": 4,
  "nbformat_minor": 0,
  "metadata": {
    "kernelspec": {
      "display_name": "Python 3",
      "language": "python",
      "name": "python3"
    },
    "language_info": {
      "codemirror_mode": {
        "name": "ipython",
        "version": 3
      },
      "file_extension": ".py",
      "mimetype": "text/x-python",
      "name": "python",
      "nbconvert_exporter": "python",
      "pygments_lexer": "ipython3",
      "version": "3.7.6"
    },
    "colab": {
      "provenance": []
    },
    "accelerator": "GPU"
  },
  "cells": [
    {
      "cell_type": "markdown",
      "metadata": {
        "id": "y-eC-sb34T9w"
      },
      "source": [
        "## Accelerate Inference: Neural Network Pruning"
      ]
    },
    {
      "cell_type": "code",
      "metadata": {
        "id": "L47XBZWm4T9x",
        "colab": {
          "base_uri": "https://localhost:8080/"
        },
        "outputId": "c1a07b98-fc00-4bd1-e4ec-f7eec839db5c"
      },
      "source": [
        "import os\n",
        "import numpy as np\n",
        "import cv2\n",
        "import matplotlib.pyplot as plt\n",
        "import pickle\n",
        "\n",
        "import tensorflow as tf\n",
        "from tensorflow import keras\n",
        "from tensorflow.keras import datasets, layers, models, regularizers\n",
        "from tensorflow.keras.layers import *\n",
        "\n",
        "print(tf.version.VERSION)"
      ],
      "execution_count": null,
      "outputs": [
        {
          "output_type": "stream",
          "name": "stdout",
          "text": [
            "2.14.0\n"
          ]
        }
      ]
    },
    {
      "cell_type": "code",
      "metadata": {
        "id": "V1FQTVeAuNiU",
        "colab": {
          "base_uri": "https://localhost:8080/"
        },
        "outputId": "18dffec4-837a-40ac-d16b-b954a2ea7158"
      },
      "source": [
        "# untar\n",
        "!tar -xvzf dataset.tar.gz\n",
        "# load train\n",
        "train_images = pickle.load(open('train_images.pkl', 'rb'))\n",
        "train_labels = pickle.load(open('train_labels.pkl', 'rb'))\n",
        "# load val\n",
        "val_images = pickle.load(open('val_images.pkl', 'rb'))\n",
        "val_labels = pickle.load(open('val_labels.pkl', 'rb'))"
      ],
      "execution_count": null,
      "outputs": [
        {
          "output_type": "stream",
          "name": "stdout",
          "text": [
            "train_images.pkl\n",
            "train_labels.pkl\n",
            "val_images.pkl\n",
            "val_labels.pkl\n"
          ]
        }
      ]
    },
    {
      "cell_type": "code",
      "metadata": {
        "id": "KE9JuZDG4T94"
      },
      "source": [
        "# Define the neural network architecture (don't change this)\n",
        "\n",
        "model = models.Sequential()\n",
        "model.add(Conv2D(32, (3, 3), padding='same', kernel_regularizer=regularizers.l2(1e-5), input_shape=(25,25,3)))\n",
        "model.add(Activation('relu'))\n",
        "model.add(Conv2D(32, (3, 3), kernel_regularizer=regularizers.l2(1e-5)))\n",
        "model.add(Activation('relu'))\n",
        "model.add(MaxPooling2D(pool_size=(2, 2)))\n",
        "model.add(Dropout(0.25))\n",
        "model.add(Conv2D(64, (3, 3), padding='same', kernel_regularizer=regularizers.l2(1e-5)))\n",
        "model.add(Activation('relu'))\n",
        "model.add(Conv2D(64, (3, 3), kernel_regularizer=regularizers.l2(1e-5)))\n",
        "model.add(Activation('relu'))\n",
        "model.add(MaxPooling2D(pool_size=(2, 2)))\n",
        "model.add(Dropout(0.25))\n",
        "model.add(Flatten())\n",
        "model.add(Dense(512))\n",
        "model.add(Activation('relu'))\n",
        "model.add(Dropout(0.5))\n",
        "model.add(Dense(5))\n",
        "model.add(Activation('softmax'))"
      ],
      "execution_count": null,
      "outputs": []
    },
    {
      "cell_type": "code",
      "metadata": {
        "id": "JTzcSoYl4T97",
        "colab": {
          "base_uri": "https://localhost:8080/"
        },
        "outputId": "dc9e6a38-f0f5-4e29-f203-2a15864b9338"
      },
      "source": [
        "print(model.summary())"
      ],
      "execution_count": null,
      "outputs": [
        {
          "output_type": "stream",
          "name": "stdout",
          "text": [
            "Model: \"sequential\"\n",
            "_________________________________________________________________\n",
            " Layer (type)                Output Shape              Param #   \n",
            "=================================================================\n",
            " conv2d (Conv2D)             (None, 25, 25, 32)        896       \n",
            "                                                                 \n",
            " activation (Activation)     (None, 25, 25, 32)        0         \n",
            "                                                                 \n",
            " conv2d_1 (Conv2D)           (None, 23, 23, 32)        9248      \n",
            "                                                                 \n",
            " activation_1 (Activation)   (None, 23, 23, 32)        0         \n",
            "                                                                 \n",
            " max_pooling2d (MaxPooling2  (None, 11, 11, 32)        0         \n",
            " D)                                                              \n",
            "                                                                 \n",
            " dropout (Dropout)           (None, 11, 11, 32)        0         \n",
            "                                                                 \n",
            " conv2d_2 (Conv2D)           (None, 11, 11, 64)        18496     \n",
            "                                                                 \n",
            " activation_2 (Activation)   (None, 11, 11, 64)        0         \n",
            "                                                                 \n",
            " conv2d_3 (Conv2D)           (None, 9, 9, 64)          36928     \n",
            "                                                                 \n",
            " activation_3 (Activation)   (None, 9, 9, 64)          0         \n",
            "                                                                 \n",
            " max_pooling2d_1 (MaxPoolin  (None, 4, 4, 64)          0         \n",
            " g2D)                                                            \n",
            "                                                                 \n",
            " dropout_1 (Dropout)         (None, 4, 4, 64)          0         \n",
            "                                                                 \n",
            " flatten (Flatten)           (None, 1024)              0         \n",
            "                                                                 \n",
            " dense (Dense)               (None, 512)               524800    \n",
            "                                                                 \n",
            " activation_4 (Activation)   (None, 512)               0         \n",
            "                                                                 \n",
            " dropout_2 (Dropout)         (None, 512)               0         \n",
            "                                                                 \n",
            " dense_1 (Dense)             (None, 5)                 2565      \n",
            "                                                                 \n",
            " activation_5 (Activation)   (None, 5)                 0         \n",
            "                                                                 \n",
            "=================================================================\n",
            "Total params: 592933 (2.26 MB)\n",
            "Trainable params: 592933 (2.26 MB)\n",
            "Non-trainable params: 0 (0.00 Byte)\n",
            "_________________________________________________________________\n",
            "None\n"
          ]
        }
      ]
    },
    {
      "cell_type": "code",
      "metadata": {
        "id": "G9Nk_MAPqZPt",
        "colab": {
          "base_uri": "https://localhost:8080/"
        },
        "outputId": "04d67cb5-7302-402d-cc45-df65741288d5"
      },
      "source": [
        "# you can use the default hyper-parameters for training,\n",
        "# val accuracy ~72% after 50 epochs\n",
        "\n",
        "model.compile(optimizer=keras.optimizers.Adam(learning_rate=0.0001, weight_decay=1e-6),\n",
        "              loss=tf.keras.losses.SparseCategoricalCrossentropy(from_logits=False),\n",
        "              metrics=['accuracy'])\n",
        "\n",
        "history = model.fit(train_images, train_labels, batch_size=32, epochs=50,\n",
        "                    validation_data=(val_images, val_labels)) # train for 50 epochs, with batch size 32"
      ],
      "execution_count": null,
      "outputs": [
        {
          "output_type": "stream",
          "name": "stdout",
          "text": [
            "Epoch 1/50\n",
            "703/703 [==============================] - 17s 6ms/step - loss: 1.4935 - accuracy: 0.3226 - val_loss: 1.3848 - val_accuracy: 0.4055\n",
            "Epoch 2/50\n",
            "703/703 [==============================] - 4s 6ms/step - loss: 1.3212 - accuracy: 0.4376 - val_loss: 1.2350 - val_accuracy: 0.4784\n",
            "Epoch 3/50\n",
            "703/703 [==============================] - 5s 6ms/step - loss: 1.2646 - accuracy: 0.4692 - val_loss: 1.2079 - val_accuracy: 0.4947\n",
            "Epoch 4/50\n",
            "703/703 [==============================] - 4s 6ms/step - loss: 1.2265 - accuracy: 0.4890 - val_loss: 1.1803 - val_accuracy: 0.5097\n",
            "Epoch 5/50\n",
            "703/703 [==============================] - 4s 6ms/step - loss: 1.1901 - accuracy: 0.5096 - val_loss: 1.1362 - val_accuracy: 0.5323\n",
            "Epoch 6/50\n",
            "703/703 [==============================] - 4s 6ms/step - loss: 1.1583 - accuracy: 0.5265 - val_loss: 1.1153 - val_accuracy: 0.5374\n",
            "Epoch 7/50\n",
            "703/703 [==============================] - 5s 6ms/step - loss: 1.1331 - accuracy: 0.5413 - val_loss: 1.0869 - val_accuracy: 0.5640\n",
            "Epoch 8/50\n",
            "703/703 [==============================] - 4s 5ms/step - loss: 1.1079 - accuracy: 0.5522 - val_loss: 1.0544 - val_accuracy: 0.5687\n",
            "Epoch 9/50\n",
            "703/703 [==============================] - 4s 5ms/step - loss: 1.0849 - accuracy: 0.5665 - val_loss: 1.0540 - val_accuracy: 0.5731\n",
            "Epoch 10/50\n",
            "703/703 [==============================] - 5s 7ms/step - loss: 1.0629 - accuracy: 0.5753 - val_loss: 1.0229 - val_accuracy: 0.5850\n",
            "Epoch 11/50\n",
            "703/703 [==============================] - 4s 5ms/step - loss: 1.0382 - accuracy: 0.5895 - val_loss: 1.0118 - val_accuracy: 0.5905\n",
            "Epoch 12/50\n",
            "703/703 [==============================] - 4s 5ms/step - loss: 1.0220 - accuracy: 0.5941 - val_loss: 0.9967 - val_accuracy: 0.5949\n",
            "Epoch 13/50\n",
            "703/703 [==============================] - 5s 7ms/step - loss: 1.0055 - accuracy: 0.6016 - val_loss: 0.9705 - val_accuracy: 0.5976\n",
            "Epoch 14/50\n",
            "703/703 [==============================] - 4s 6ms/step - loss: 0.9922 - accuracy: 0.6108 - val_loss: 0.9443 - val_accuracy: 0.6226\n",
            "Epoch 15/50\n",
            "703/703 [==============================] - 4s 5ms/step - loss: 0.9780 - accuracy: 0.6129 - val_loss: 0.9816 - val_accuracy: 0.5992\n",
            "Epoch 16/50\n",
            "703/703 [==============================] - 4s 6ms/step - loss: 0.9583 - accuracy: 0.6238 - val_loss: 0.9178 - val_accuracy: 0.6289\n",
            "Epoch 17/50\n",
            "703/703 [==============================] - 4s 6ms/step - loss: 0.9403 - accuracy: 0.6324 - val_loss: 0.9446 - val_accuracy: 0.6174\n",
            "Epoch 18/50\n",
            "703/703 [==============================] - 4s 5ms/step - loss: 0.9271 - accuracy: 0.6369 - val_loss: 0.9075 - val_accuracy: 0.6372\n",
            "Epoch 19/50\n",
            "703/703 [==============================] - 4s 5ms/step - loss: 0.9167 - accuracy: 0.6400 - val_loss: 0.9095 - val_accuracy: 0.6345\n",
            "Epoch 20/50\n",
            "703/703 [==============================] - 5s 7ms/step - loss: 0.9064 - accuracy: 0.6449 - val_loss: 0.9070 - val_accuracy: 0.6368\n",
            "Epoch 21/50\n",
            "703/703 [==============================] - 4s 5ms/step - loss: 0.8877 - accuracy: 0.6562 - val_loss: 0.9360 - val_accuracy: 0.6214\n",
            "Epoch 22/50\n",
            "703/703 [==============================] - 4s 5ms/step - loss: 0.8764 - accuracy: 0.6570 - val_loss: 0.8655 - val_accuracy: 0.6566\n",
            "Epoch 23/50\n",
            "703/703 [==============================] - 5s 7ms/step - loss: 0.8610 - accuracy: 0.6704 - val_loss: 0.8437 - val_accuracy: 0.6606\n",
            "Epoch 24/50\n",
            "703/703 [==============================] - 4s 6ms/step - loss: 0.8559 - accuracy: 0.6665 - val_loss: 0.8507 - val_accuracy: 0.6630\n",
            "Epoch 25/50\n",
            "703/703 [==============================] - 4s 5ms/step - loss: 0.8458 - accuracy: 0.6723 - val_loss: 0.8497 - val_accuracy: 0.6606\n",
            "Epoch 26/50\n",
            "703/703 [==============================] - 4s 6ms/step - loss: 0.8395 - accuracy: 0.6756 - val_loss: 0.8658 - val_accuracy: 0.6570\n",
            "Epoch 27/50\n",
            "703/703 [==============================] - 4s 6ms/step - loss: 0.8206 - accuracy: 0.6852 - val_loss: 0.8402 - val_accuracy: 0.6634\n",
            "Epoch 28/50\n",
            "703/703 [==============================] - 4s 5ms/step - loss: 0.8184 - accuracy: 0.6854 - val_loss: 0.8221 - val_accuracy: 0.6725\n",
            "Epoch 29/50\n",
            "703/703 [==============================] - 4s 5ms/step - loss: 0.8017 - accuracy: 0.6929 - val_loss: 0.8571 - val_accuracy: 0.6574\n",
            "Epoch 30/50\n",
            "703/703 [==============================] - 5s 7ms/step - loss: 0.7973 - accuracy: 0.6962 - val_loss: 0.8094 - val_accuracy: 0.6824\n",
            "Epoch 31/50\n",
            "703/703 [==============================] - 4s 5ms/step - loss: 0.7858 - accuracy: 0.7028 - val_loss: 0.7904 - val_accuracy: 0.6879\n",
            "Epoch 32/50\n",
            "703/703 [==============================] - 4s 5ms/step - loss: 0.7729 - accuracy: 0.7029 - val_loss: 0.7930 - val_accuracy: 0.6875\n",
            "Epoch 33/50\n",
            "703/703 [==============================] - 5s 7ms/step - loss: 0.7635 - accuracy: 0.7116 - val_loss: 0.7909 - val_accuracy: 0.6895\n",
            "Epoch 34/50\n",
            "703/703 [==============================] - 4s 6ms/step - loss: 0.7575 - accuracy: 0.7107 - val_loss: 0.7741 - val_accuracy: 0.6962\n",
            "Epoch 35/50\n",
            "703/703 [==============================] - 4s 5ms/step - loss: 0.7467 - accuracy: 0.7139 - val_loss: 0.7663 - val_accuracy: 0.6998\n",
            "Epoch 36/50\n",
            "703/703 [==============================] - 4s 6ms/step - loss: 0.7391 - accuracy: 0.7175 - val_loss: 0.7663 - val_accuracy: 0.7077\n",
            "Epoch 37/50\n",
            "703/703 [==============================] - 4s 6ms/step - loss: 0.7302 - accuracy: 0.7209 - val_loss: 0.7700 - val_accuracy: 0.7030\n",
            "Epoch 38/50\n",
            "703/703 [==============================] - 4s 5ms/step - loss: 0.7230 - accuracy: 0.7230 - val_loss: 0.8106 - val_accuracy: 0.6875\n",
            "Epoch 39/50\n",
            "703/703 [==============================] - 4s 6ms/step - loss: 0.7093 - accuracy: 0.7269 - val_loss: 0.7606 - val_accuracy: 0.7149\n",
            "Epoch 40/50\n",
            "703/703 [==============================] - 5s 7ms/step - loss: 0.7082 - accuracy: 0.7287 - val_loss: 0.7683 - val_accuracy: 0.7022\n",
            "Epoch 41/50\n",
            "703/703 [==============================] - 4s 6ms/step - loss: 0.7021 - accuracy: 0.7346 - val_loss: 0.7668 - val_accuracy: 0.6994\n",
            "Epoch 42/50\n",
            "703/703 [==============================] - 4s 6ms/step - loss: 0.6909 - accuracy: 0.7398 - val_loss: 0.7534 - val_accuracy: 0.7050\n",
            "Epoch 43/50\n",
            "703/703 [==============================] - 5s 7ms/step - loss: 0.6826 - accuracy: 0.7404 - val_loss: 0.7409 - val_accuracy: 0.7156\n",
            "Epoch 44/50\n",
            "703/703 [==============================] - 4s 6ms/step - loss: 0.6778 - accuracy: 0.7401 - val_loss: 0.7612 - val_accuracy: 0.7061\n",
            "Epoch 45/50\n",
            "703/703 [==============================] - 4s 5ms/step - loss: 0.6725 - accuracy: 0.7463 - val_loss: 0.7327 - val_accuracy: 0.7168\n",
            "Epoch 46/50\n",
            "703/703 [==============================] - 4s 6ms/step - loss: 0.6616 - accuracy: 0.7511 - val_loss: 0.7333 - val_accuracy: 0.7145\n",
            "Epoch 47/50\n",
            "703/703 [==============================] - 4s 6ms/step - loss: 0.6587 - accuracy: 0.7523 - val_loss: 0.7406 - val_accuracy: 0.7133\n",
            "Epoch 48/50\n",
            "703/703 [==============================] - 4s 5ms/step - loss: 0.6521 - accuracy: 0.7549 - val_loss: 0.7450 - val_accuracy: 0.7113\n",
            "Epoch 49/50\n",
            "703/703 [==============================] - 4s 6ms/step - loss: 0.6392 - accuracy: 0.7580 - val_loss: 0.7218 - val_accuracy: 0.7291\n",
            "Epoch 50/50\n",
            "703/703 [==============================] - 5s 7ms/step - loss: 0.6392 - accuracy: 0.7577 - val_loss: 0.7300 - val_accuracy: 0.7184\n"
          ]
        }
      ]
    },
    {
      "cell_type": "code",
      "metadata": {
        "id": "vOhpP7M24T9_",
        "colab": {
          "base_uri": "https://localhost:8080/"
        },
        "outputId": "843ee056-cb7a-42b9-91b9-27a884f5a32c"
      },
      "source": [
        "results = model.evaluate(val_images, val_labels, batch_size=128)"
      ],
      "execution_count": null,
      "outputs": [
        {
          "output_type": "stream",
          "name": "stdout",
          "text": [
            "20/20 [==============================] - 0s 8ms/step - loss: 0.7300 - accuracy: 0.7184\n"
          ]
        }
      ]
    },
    {
      "cell_type": "code",
      "metadata": {
        "id": "vjw94aij4T-C"
      },
      "source": [
        "# perform pruning here\n",
        "\n",
        "# get the weights\n",
        "weights = model.get_weights()\n",
        "\n",
        "# you can use set_weights() to set some weights to zero, e.g.,\n",
        "\n",
        "weights[7][:10]=0\n",
        "model.set_weights(weights)\n"
      ],
      "execution_count": null,
      "outputs": []
    },
    {
      "cell_type": "code",
      "source": [
        "print(type(weights))\n",
        "print([weights[i].shape for i in range(len(weights))])"
      ],
      "metadata": {
        "colab": {
          "base_uri": "https://localhost:8080/"
        },
        "id": "XPdkWCoG4cL-",
        "outputId": "04fd5a68-a5c5-4bc3-977a-1825257b70ce"
      },
      "execution_count": null,
      "outputs": [
        {
          "output_type": "stream",
          "name": "stdout",
          "text": [
            "<class 'list'>\n",
            "[(3, 3, 3, 32), (32,), (3, 3, 32, 32), (32,), (3, 3, 32, 64), (64,), (3, 3, 64, 64), (64,), (1024, 512), (512,), (512, 5), (5,)]\n"
          ]
        }
      ]
    },
    {
      "cell_type": "code",
      "source": [
        "model.summary()"
      ],
      "metadata": {
        "id": "gH8C8l-x4p_m",
        "outputId": "1d3f2577-ee6f-48d9-ea6e-763a1e225d44",
        "colab": {
          "base_uri": "https://localhost:8080/"
        }
      },
      "execution_count": null,
      "outputs": [
        {
          "output_type": "stream",
          "name": "stdout",
          "text": [
            "Model: \"sequential\"\n",
            "_________________________________________________________________\n",
            " Layer (type)                Output Shape              Param #   \n",
            "=================================================================\n",
            " conv2d (Conv2D)             (None, 25, 25, 32)        896       \n",
            "                                                                 \n",
            " activation (Activation)     (None, 25, 25, 32)        0         \n",
            "                                                                 \n",
            " conv2d_1 (Conv2D)           (None, 23, 23, 32)        9248      \n",
            "                                                                 \n",
            " activation_1 (Activation)   (None, 23, 23, 32)        0         \n",
            "                                                                 \n",
            " max_pooling2d (MaxPooling2  (None, 11, 11, 32)        0         \n",
            " D)                                                              \n",
            "                                                                 \n",
            " dropout (Dropout)           (None, 11, 11, 32)        0         \n",
            "                                                                 \n",
            " conv2d_2 (Conv2D)           (None, 11, 11, 64)        18496     \n",
            "                                                                 \n",
            " activation_2 (Activation)   (None, 11, 11, 64)        0         \n",
            "                                                                 \n",
            " conv2d_3 (Conv2D)           (None, 9, 9, 64)          36928     \n",
            "                                                                 \n",
            " activation_3 (Activation)   (None, 9, 9, 64)          0         \n",
            "                                                                 \n",
            " max_pooling2d_1 (MaxPoolin  (None, 4, 4, 64)          0         \n",
            " g2D)                                                            \n",
            "                                                                 \n",
            " dropout_1 (Dropout)         (None, 4, 4, 64)          0         \n",
            "                                                                 \n",
            " flatten (Flatten)           (None, 1024)              0         \n",
            "                                                                 \n",
            " dense (Dense)               (None, 512)               524800    \n",
            "                                                                 \n",
            " activation_4 (Activation)   (None, 512)               0         \n",
            "                                                                 \n",
            " dropout_2 (Dropout)         (None, 512)               0         \n",
            "                                                                 \n",
            " dense_1 (Dense)             (None, 5)                 2565      \n",
            "                                                                 \n",
            " activation_5 (Activation)   (None, 5)                 0         \n",
            "                                                                 \n",
            "=================================================================\n",
            "Total params: 592933 (2.26 MB)\n",
            "Trainable params: 592933 (2.26 MB)\n",
            "Non-trainable params: 0 (0.00 Byte)\n",
            "_________________________________________________________________\n"
          ]
        }
      ]
    },
    {
      "cell_type": "code",
      "metadata": {
        "id": "oUuNXFjV4T-E",
        "outputId": "807f9660-31b2-4aa2-b960-d3ed33a967e9",
        "colab": {
          "base_uri": "https://localhost:8080/"
        }
      },
      "source": [
        "# evaluate again to see how the accuracy changes\n",
        "results = model.evaluate(val_images, val_labels, batch_size=128)"
      ],
      "execution_count": null,
      "outputs": [
        {
          "output_type": "stream",
          "name": "stdout",
          "text": [
            "20/20 [==============================] - 0s 4ms/step - loss: 0.7264 - accuracy: 0.7232\n"
          ]
        }
      ]
    },
    {
      "cell_type": "code",
      "metadata": {
        "id": "wMSKQW4k4T-G",
        "outputId": "1b4059fe-c34c-4f31-e813-bd8306e376cd",
        "colab": {
          "base_uri": "https://localhost:8080/",
          "height": 17
        }
      },
      "source": [
        "# you need to save the model's weights, naming it 'my_model_weights.h5'\n",
        "model.save_weights(\"my_model_weights.h5\")\n",
        "\n",
        "# running this cell will immediately download a file called 'my_model_weights.h5'\n",
        "from google.colab import files\n",
        "files.download(\"my_model_weights.h5\")"
      ],
      "execution_count": null,
      "outputs": [
        {
          "output_type": "display_data",
          "data": {
            "text/plain": [
              "<IPython.core.display.Javascript object>"
            ],
            "application/javascript": [
              "\n",
              "    async function download(id, filename, size) {\n",
              "      if (!google.colab.kernel.accessAllowed) {\n",
              "        return;\n",
              "      }\n",
              "      const div = document.createElement('div');\n",
              "      const label = document.createElement('label');\n",
              "      label.textContent = `Downloading \"${filename}\": `;\n",
              "      div.appendChild(label);\n",
              "      const progress = document.createElement('progress');\n",
              "      progress.max = size;\n",
              "      div.appendChild(progress);\n",
              "      document.body.appendChild(div);\n",
              "\n",
              "      const buffers = [];\n",
              "      let downloaded = 0;\n",
              "\n",
              "      const channel = await google.colab.kernel.comms.open(id);\n",
              "      // Send a message to notify the kernel that we're ready.\n",
              "      channel.send({})\n",
              "\n",
              "      for await (const message of channel.messages) {\n",
              "        // Send a message to notify the kernel that we're ready.\n",
              "        channel.send({})\n",
              "        if (message.buffers) {\n",
              "          for (const buffer of message.buffers) {\n",
              "            buffers.push(buffer);\n",
              "            downloaded += buffer.byteLength;\n",
              "            progress.value = downloaded;\n",
              "          }\n",
              "        }\n",
              "      }\n",
              "      const blob = new Blob(buffers, {type: 'application/binary'});\n",
              "      const a = document.createElement('a');\n",
              "      a.href = window.URL.createObjectURL(blob);\n",
              "      a.download = filename;\n",
              "      div.appendChild(a);\n",
              "      a.click();\n",
              "      div.remove();\n",
              "    }\n",
              "  "
            ]
          },
          "metadata": {}
        },
        {
          "output_type": "display_data",
          "data": {
            "text/plain": [
              "<IPython.core.display.Javascript object>"
            ],
            "application/javascript": [
              "download(\"download_4ec3a957-f26d-4939-9925-12b142f334b8\", \"my_model_weights.h5\", 2407040)"
            ]
          },
          "metadata": {}
        }
      ]
    },
    {
      "cell_type": "code",
      "metadata": {
        "id": "MPiJ_b1S4T-I"
      },
      "source": [],
      "execution_count": null,
      "outputs": []
    }
  ]
}